{
 "cells": [
  {
   "cell_type": "code",
   "execution_count": 2,
   "metadata": {},
   "outputs": [],
   "source": [
    "import proj1_helpers\n",
    "import implementations\n",
    "import numpy as np"
   ]
  },
  {
   "cell_type": "code",
   "execution_count": 168,
   "metadata": {},
   "outputs": [
    {
     "name": "stdout",
     "output_type": "stream",
     "text": [
      "Extracting dataset\n"
     ]
    }
   ],
   "source": [
    "print(\"Extracting dataset\")\n",
    "y_train_ref, X_train_ref, id1 = proj1_helpers.load_csv_data(\"train.csv\")\n",
    "y_test_ref, X_test_ref, id2 = proj1_helpers.load_csv_data(\"test.csv\")\n",
    "\n"
   ]
  },
  {
   "cell_type": "code",
   "execution_count": 173,
   "metadata": {},
   "outputs": [
    {
     "name": "stdout",
     "output_type": "stream",
     "text": [
      "(250000, 120)\n",
      "number of features :  120\n"
     ]
    }
   ],
   "source": [
    "X_train = np.concatenate([X_train_ref,np.power(X_train_ref,2),np.power(X_train_ref,3),np.power(X_train_ref,4)],axis = 1)\n",
    "y_train = y_train_ref\n",
    "X_test = np.concatenate((X_test_ref,np.power(X_test_ref,2),np.power(X_test_ref,3),np.power(X_test_ref,4)),axis = 1)\n",
    "y_test = y_test_ref\n",
    "print(X_train.shape)\n",
    "\n",
    "num_features = X_train[0].shape[0]\n",
    "print(\"number of features : \", num_features)"
   ]
  },
  {
   "cell_type": "code",
   "execution_count": 171,
   "metadata": {},
   "outputs": [
    {
     "name": "stdout",
     "output_type": "stream",
     "text": [
      "Splitting dataset into batch\n",
      "(129, 120)\n"
     ]
    }
   ],
   "source": [
    "batch_size = 128\n",
    "\n",
    "print(\"Splitting dataset into batch\")\n",
    "X_batch = np.array_split(X_train, int(X_train.shape[0]/batch_size))\n",
    "y_batch = np.array_split(y_train, int(y_train.shape[0]/batch_size))\n",
    "\n",
    "print(X_batch[0].shape)"
   ]
  },
  {
   "cell_type": "code",
   "execution_count": 193,
   "metadata": {},
   "outputs": [],
   "source": [
    "def batch(lambda_, degree):\n",
    "    x = []\n",
    "    xt = []\n",
    "    for i in range(degree+1):\n",
    "        x.append(np.power(X_train_ref,i))\n",
    "        xt.append(np.power(X_test_ref,i))\n",
    "        \n",
    "    X_train = np.concatenate(x,axis = 1)\n",
    "    y_train = y_train_ref\n",
    "    X_test = np.concatenate(xt,axis = 1)\n",
    "    y_test = y_test_ref\n",
    "    \n",
    "    num_features = X_train[0].shape[0]\n",
    "    #print(\"number of features : \", num_features)\n",
    "    \n",
    "    batch_size = 128\n",
    "\n",
    "    #print(\"Splitting dataset into batch\")\n",
    "    X_batch = np.array_split(X_train, int(X_train.shape[0]/batch_size))\n",
    "    y_batch = np.array_split(y_train, int(y_train.shape[0]/batch_size))\n",
    "\n",
    "    #print(X_batch[0].shape)\n",
    "    \n",
    "    w = []\n",
    "    for y,batch in zip(y_batch,X_batch):\n",
    "        w.append(implementations.ridge_regression(y,batch,lambda_))\n",
    "\n",
    "    wp = np.sum(np.array(w),axis=0)/(len(X_batch))\n",
    "\n",
    "    y_pred_ridge_train = proj1_helpers.predict_labels(wp,X_train)\n",
    "    y_pred_ridge_test = proj1_helpers.predict_labels(wp,X_test)\n",
    "    s_tr = 0\n",
    "    s_te = 0\n",
    "    tot = 0\n",
    "    for i,y in enumerate(y_train):\n",
    "        if y == y_pred_ridge_train[i]:\n",
    "            s_tr += 1\n",
    "        if y == y_pred_ridge_test[i]:\n",
    "            s_te += 1\n",
    "        tot += 1\n",
    "\n",
    "    print(\"Ridge precision on train : \",s_tr/tot,\"     Ridge precision on test : \",s_te/tot)\n",
    "    \n",
    "    return s_tr/tot,s_te/tot"
   ]
  },
  {
   "cell_type": "code",
   "execution_count": 196,
   "metadata": {},
   "outputs": [
    {
     "name": "stdout",
     "output_type": "stream",
     "text": [
      "Ridge precision on train :  0.775664      Ridge precision on test :  0.563104\n",
      "Ridge precision on train :  0.774532      Ridge precision on test :  0.563652\n",
      "Ridge precision on train :  0.773616      Ridge precision on test :  0.563712\n",
      "Ridge precision on train :  0.772908      Ridge precision on test :  0.563688\n",
      "Ridge precision on train :  0.772336      Ridge precision on test :  0.563776\n",
      "Ridge precision on train :  0.771504      Ridge precision on test :  0.563676\n",
      "Ridge precision on train :  0.770756      Ridge precision on test :  0.563444\n",
      "Ridge precision on train :  0.769528      Ridge precision on test :  0.563364\n"
     ]
    },
    {
     "data": {
      "text/plain": [
       "(0.769528, 0.563364)"
      ]
     },
     "execution_count": 196,
     "metadata": {},
     "output_type": "execute_result"
    }
   ],
   "source": [
    "batch(0.1,2)\n",
    "batch(0.5,2)\n",
    "batch(1,2)\n",
    "batch(1.5,2)\n",
    "batch(2,2)\n",
    "batch(3,2)\n",
    "batch(5,2)\n",
    "batch(10,2)"
   ]
  },
  {
   "cell_type": "code",
   "execution_count": 108,
   "metadata": {},
   "outputs": [
    {
     "name": "stdout",
     "output_type": "stream",
     "text": [
      "[  1.29221082e-02   4.22187028e-03  -6.79651266e-04  -3.76623370e-03\n",
      "   1.23364914e-01   5.29612392e-04   5.01511457e-03   4.13689648e-01\n",
      "  -3.05651696e-03  -1.99058648e+01   3.14128853e+00  -8.12834949e-02\n",
      "   2.84547840e-01   2.00566117e+01   1.12900758e-02  -4.30101735e-03\n",
      "   1.98045716e+01   2.54338092e-02  -3.23735659e-02  -1.89019871e-02\n",
      "  -5.29388276e-02   2.05232695e-03  -2.01191679e+05   3.11904547e-02\n",
      "  -4.55753671e-02   1.22657126e-02  -9.18778855e-03   3.71508738e-02\n",
      "  -8.57364651e-02   1.98917366e+01  -2.62008515e-05  -2.50468892e-04\n",
      "  -4.02307127e-05  -3.60195466e-06  -1.49789365e-02  -3.53732159e-06\n",
      "  -1.88623526e-03  -9.08009672e-02   4.20450236e-05   5.46329386e-05\n",
      "  -8.45401116e-01   8.89674690e-04   1.58087481e-01  -1.29406458e-03\n",
      "  -1.04747536e-02   4.90935690e-03   8.72364360e-04  -2.97668867e-02\n",
      "   5.78649896e-03   4.28215099e-04   2.31380818e-03  -5.68266999e-06\n",
      "   1.67656472e+05  -1.40428060e-04   2.78622643e-02  -8.36285418e-03\n",
      "   4.07101286e-04   6.17731621e-02   1.16042710e-02  -7.53862946e-05\n",
      "  -4.00531510e-08   1.44106839e-06   1.96086515e-08   2.10588380e-07\n",
      "   5.76285163e-04   1.05910688e-09  -1.99806460e-03   1.43244378e-02\n",
      "  -1.32061834e-06  -5.79339722e-08   1.01363400e-01   8.05723362e-02\n",
      "  -5.25732400e-04   2.38737698e-06   6.20845272e-04  -3.51300162e-04\n",
      "  -4.05557105e-06   9.88865874e-04   5.36398231e-03  -2.23926416e-06\n",
      "   6.22710641e-03   5.23439454e-09  -3.35310663e+04   2.43295662e-07\n",
      "   2.54031862e-03  -2.45391439e-03  -1.29606877e-06   9.69983019e-04\n",
      "   1.12642405e-03   6.74624766e-08]\n",
      "(90,)\n"
     ]
    }
   ],
   "source": [
    "w = []\n",
    "for y,batch in zip(y_batch,X_batch):\n",
    "    implementations.least_squares_GD(y,batch,np.random.rand(num_features),100,0.001,False)\n",
    "    w.append(implementations.ridge_regression(y,batch,0))\n",
    "\n",
    "print(np.sum(np.array(w),axis=0)/(len(X_batch)))\n",
    "wg = np.sum(np.array(w),axis=0)/(len(X_batch))\n",
    "\n",
    "print(w[0].shape)\n",
    "\n",
    "\n"
   ]
  },
  {
   "cell_type": "code",
   "execution_count": 109,
   "metadata": {},
   "outputs": [
    {
     "name": "stdout",
     "output_type": "stream",
     "text": [
      "GD precision on train :  0.77\n",
      "GD precision on test :  0.266080070391553\n"
     ]
    }
   ],
   "source": [
    "y_pred_GD_train = proj1_helpers.predict_labels(wg,X_train)\n",
    "s = 0\n",
    "tot = 0\n",
    "for i,y in enumerate(y_pred_ridge_train):\n",
    "    if y == y_train[i]:\n",
    "        s += 1\n",
    "    tot += 1\n",
    "\n",
    "print(\"GD precision on train : \",s/tot)\n",
    "\n",
    "y_pred_GD_test = proj1_helpers.predict_labels(wg,X_test)\n",
    "s = 0\n",
    "tot = 0\n",
    "for i,y in enumerate(y_pred_ridge_test):\n",
    "    if y == y_test[i]:\n",
    "        s += 1\n",
    "    tot += 1\n",
    "\n",
    "print(\"GD precision on test : \",s/tot)"
   ]
  },
  {
   "cell_type": "code",
   "execution_count": null,
   "metadata": {},
   "outputs": [],
   "source": []
  }
 ],
 "metadata": {
  "kernelspec": {
   "display_name": "Python 2",
   "language": "python",
   "name": "python2"
  },
  "language_info": {
   "codemirror_mode": {
    "name": "ipython",
    "version": 2
   },
   "file_extension": ".py",
   "mimetype": "text/x-python",
   "name": "python",
   "nbconvert_exporter": "python",
   "pygments_lexer": "ipython2",
   "version": "2.7.15"
  }
 },
 "nbformat": 4,
 "nbformat_minor": 2
}
