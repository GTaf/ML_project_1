{
 "cells": [
  {
   "cell_type": "code",
   "execution_count": 2,
   "metadata": {},
   "outputs": [],
   "source": [
    "import proj1_helpers\n",
    "import implementations\n",
    "import numpy as np"
   ]
  },
  {
   "cell_type": "code",
   "execution_count": 3,
   "metadata": {},
   "outputs": [
    {
     "name": "stdout",
     "output_type": "stream",
     "text": [
      "Extracting dataset\n"
     ]
    }
   ],
   "source": [
    "print(\"Extracting dataset\")\n",
    "y_train_ref_source, X_train_ref_source, id1 = proj1_helpers.load_csv_data(\"../train.csv\")\n",
    "#y_test_ref, X_test_ref, id2 = proj1_helpers.load_csv_data(\"test.csv\")\n"
   ]
  },
  {
   "cell_type": "code",
   "execution_count": 4,
   "metadata": {},
   "outputs": [
    {
     "name": "stdout",
     "output_type": "stream",
     "text": [
      "(181886, 30) (68114, 30)\n"
     ]
    }
   ],
   "source": [
    "i = 0\n",
    "X_in = []\n",
    "X_out = []\n",
    "y_in = []\n",
    "y_out=[]\n",
    "for i in range(X_train_ref_source.shape[0]):\n",
    "    x = X_train_ref_source[i]\n",
    "    y = y_train_ref_source[i]\n",
    "    if -999 in x:\n",
    "        X_in.append(x)\n",
    "        y_in.append(y)\n",
    "    else:\n",
    "        X_out.append(x)\n",
    "        y_out.append(y)\n",
    "        \n",
    "X_in = np.array(X_in)\n",
    "X_out = np.array(X_out)\n",
    "y_in = np.array(y_in)\n",
    "y_out = np.array(y_out)\n",
    "\n",
    "print(X_in.shape,X_out.shape)\n",
    "\n",
    "X_in_train_ref, X_in_test_ref, y_in_train_ref, y_in_test_ref = implementations.split_data(X_in, y_in, 0.9,23)\n",
    "X_out_train_ref, X_out_test_ref, y_out_train_ref, y_out_test_ref = implementations.split_data(X_out, y_out, 0.9,23)"
   ]
  },
  {
   "cell_type": "code",
   "execution_count": 5,
   "metadata": {},
   "outputs": [],
   "source": [
    "def batch_ridge_in(lambda_, degree, batch_size):\n",
    "    x = []\n",
    "    xt = []\n",
    "    for i in range(1,degree+1):\n",
    "        x.append(np.power(X_in_train_ref,i))\n",
    "        xt.append(np.power(X_in_test_ref,i))\n",
    "        \n",
    "    X_train = np.concatenate(x,axis = 1)\n",
    "    y_train = y_in_train_ref\n",
    "    X_test = np.concatenate(xt,axis = 1)\n",
    "    y_test = y_in_test_ref\n",
    "    \n",
    "    #print(\"X_train shape : \", X_train.shape,\"    X_test.shape : \", X_test.shape)\n",
    "    #print(\"y_train shape : \", y_train.shape,\"    y_test.shape : \", y_test.shape)\n",
    "    \n",
    "    num_features = X_train[0].shape[0]\n",
    "    #print(\"number of features : \", num_features)\n",
    "\n",
    "    #print(\"Splitting dataset into batch\")\n",
    "    X_batch = np.array_split(X_train, 1)\n",
    "    y_batch = np.array_split(y_train, 1)\n",
    "\n",
    "    #print(X_batch[0].shape)\n",
    "    \n",
    "    w = []\n",
    "    i=0\n",
    "    for y,batch in zip(y_batch,X_batch):\n",
    "        w.append(implementations.ridge_regression(y, batch,lambda_))\n",
    "    \n",
    "    \n",
    "    wp =  np.sum(np.array(w),axis=0)/(len(X_batch))\n",
    "    \n",
    "    \n",
    "    \n",
    "\n",
    "    y_pred_ridge_train = proj1_helpers.predict_labels(wp,X_train)\n",
    "    y_pred_ridge_test = proj1_helpers.predict_labels(wp,X_test)\n",
    "    s_tr = 0\n",
    "    s_te = 0\n",
    "    tot_tr = 0\n",
    "    for i,y in enumerate(y_train):\n",
    "        if y == y_pred_ridge_train[i]:\n",
    "            s_tr += 1\n",
    "        tot_tr += 1\n",
    "    tot_te = 0\n",
    "    for i,y in enumerate(y_test):\n",
    "        if y == y_pred_ridge_test[i]:\n",
    "            s_te += 1\n",
    "        tot_te += 1\n",
    "\n",
    "    print(\"Ridge precision on train : \",s_tr/tot_tr,\"     Ridge precision on test : \",s_te/tot_te)\n",
    "    \n",
    "    return wp"
   ]
  },
  {
   "cell_type": "code",
   "execution_count": 22,
   "metadata": {},
   "outputs": [
    {
     "name": "stdout",
     "output_type": "stream",
     "text": [
      "Ridge precision on train :  0.8057814132207677      Ridge precision on test :  0.809720160536588\n",
      "Ridge precision on train :  0.8055676035602363      Ridge precision on test :  0.810050030238056\n",
      "Ridge precision on train :  0.8055370593230176      Ridge precision on test :  0.809885095387322\n",
      "Ridge precision on train :  0.8054148823741425      Ridge precision on test :  0.809720160536588\n",
      "Ridge precision on train :  0.8051888550187236      Ridge precision on test :  0.8091153994172302\n",
      "Ridge precision on train :  0.8052743788829362      Ridge precision on test :  0.8085106382978723\n",
      "Ridge precision on train :  0.8003934097753777      Ridge precision on test :  0.8038924624773215\n",
      "Ridge precision on train :  0.8030507584134101      Ridge precision on test :  0.8076309857606245\n",
      "Ridge precision on train :  0.8057264335937738      Ridge precision on test :  0.8095552256858541\n"
     ]
    },
    {
     "data": {
      "text/plain": [
       "array([  2.29529573e-02,   1.48397478e-03,   3.82839892e-03,\n",
       "        -1.05998534e-02,  -2.99965553e-02,  -3.77663147e-03,\n",
       "        -6.96212299e-02,  -3.95770884e-02,   6.25119880e-03,\n",
       "         9.28964260e-02,  -2.14640853e-02,  -8.47851027e-02,\n",
       "         1.41653814e-02,  -3.30772896e-02,  -4.31670262e-03,\n",
       "        -3.18328943e-03,  -4.77085497e-02,   2.47932915e-03,\n",
       "         2.35966058e-03,  -1.44621816e-02,  -1.69092613e-03,\n",
       "         1.72266563e-03,  -2.13999086e-02,   2.04642989e-02,\n",
       "        -1.26892392e-03,  -2.89820644e-03,  -6.82626334e-02,\n",
       "        -2.11285634e-03,   8.44783058e-03,  -9.19457447e-02,\n",
       "        -1.12603631e-04,  -3.05757325e-04,  -1.25115431e-04,\n",
       "         2.33962842e-04,  -2.35335866e-02,   1.59828281e-05,\n",
       "         1.13750666e-03,   7.18722269e-02,  -2.44504019e-04,\n",
       "         9.83039549e-05,   7.96140742e-02,   4.57773516e-02,\n",
       "         8.75937653e-03,  -8.41161765e-04,   1.14072789e-02,\n",
       "        -6.08292865e-03,  -1.23739543e-03,  -3.12348116e-02,\n",
       "         6.88829103e-04,   4.26048268e-04,  -2.99302033e-03,\n",
       "        -7.85123847e-06,  -3.44854602e-02,  -3.86842101e-04,\n",
       "         3.91616461e-02,   1.56334937e-04,   1.38154948e-03,\n",
       "         2.62218239e-02,  -9.21700734e-04,  -1.03308713e-04,\n",
       "         1.67167056e-07,   3.37532011e-06,   6.00300118e-07,\n",
       "        -2.30242551e-06,   7.58436671e-05,  -2.34549931e-08,\n",
       "         5.47203750e-05,  -2.45037615e-02,   3.72445362e-06,\n",
       "        -3.70386213e-07,  -1.19160022e-02,   1.25228455e-01,\n",
       "        -8.47947702e-05,   4.64409938e-06,   3.47634171e-03,\n",
       "         6.01799014e-04,   1.16355379e-05,  -9.15219826e-04,\n",
       "         3.16963648e-06,  -4.31177399e-06,   7.78037980e-05,\n",
       "         2.78173334e-08,  -7.49842909e-02,   3.20088242e-06,\n",
       "         2.82809981e-05,  -2.87731297e-05,  -1.14382501e-05,\n",
       "        -5.99539072e-06,   6.67590919e-06,   4.19382062e-07,\n",
       "         1.27730069e-11,  -1.33632283e-08,  -1.13179746e-09,\n",
       "         1.02911026e-08,  -1.93862747e-07,   1.57295582e-11,\n",
       "         4.31414888e-08,   1.87560005e-02,  -2.14963759e-08,\n",
       "         6.83100320e-10,   2.06294010e-04,  -5.58520721e-03,\n",
       "         1.99682043e-07,  -1.20645063e-08,  -1.29733451e-02,\n",
       "         1.29432756e-03,  -5.23221977e-08,  -2.49867998e-03,\n",
       "        -3.52800376e-04,   1.93859372e-08,   1.15281891e-03,\n",
       "        -8.99457141e-11,  -1.03603792e-01,  -1.27077099e-08,\n",
       "         1.95013499e-07,  -1.73468499e-07,   3.81369580e-08,\n",
       "        -3.04688107e-08,  -1.80439639e-08,  -8.56715293e-10,\n",
       "        -1.91408165e-13,   2.19984039e-11,   9.13176201e-13,\n",
       "        -2.04375836e-11,  -7.61273545e-11,  -4.84078208e-15,\n",
       "         2.14819174e-10,  -5.66072593e-03,   5.07723988e-11,\n",
       "        -5.97907929e-13,   3.09587471e-05,  -2.89780826e-02,\n",
       "         5.07741726e-11,   1.33954809e-11,  -5.26356041e-04,\n",
       "        -3.24102896e-05,   1.11307109e-10,   3.83083071e-05,\n",
       "        -7.79791916e-05,  -3.89349354e-11,   1.56163315e-05,\n",
       "         1.32267392e-13,  -1.20057280e-01,   2.32991101e-11,\n",
       "         3.07550047e-10,  -3.51062425e-10,  -3.13602167e-11,\n",
       "        -1.06948641e-10,  -6.13078571e-11,   8.07646388e-13,\n",
       "         1.00581620e-16,  -1.27773328e-14,  -2.63456678e-16,\n",
       "         1.46448274e-14,  -3.02097850e-13,   5.51874105e-19,\n",
       "         1.89921073e-13,   5.55936919e-04,  -4.12719732e-14,\n",
       "         2.00843509e-16,  -9.83917700e-07,  -4.02237280e-03,\n",
       "         9.90627842e-08,  -4.47087019e-15,   1.37319970e-03,\n",
       "        -7.15235094e-05,  -8.99999455e-14,   4.36395799e-04,\n",
       "         3.85174334e-05,   2.84623443e-14,  -9.55575924e-05,\n",
       "        -6.50702476e-17,   5.04057190e-02,  -1.57890876e-14,\n",
       "        -2.39301666e-13,   1.89648783e-13,  -3.76895435e-14,\n",
       "         2.10477152e-14,  -9.90626824e-08,  -2.78990524e-16])"
      ]
     },
     "execution_count": 22,
     "metadata": {},
     "output_type": "execute_result"
    }
   ],
   "source": [
    "batch_ridge_in(1000,6,32)\n",
    "batch_ridge_in(2000,6,32)\n",
    "batch_ridge_in(3000,6,32)\n",
    "batch_ridge_in(5000,6,32)\n",
    "batch_ridge_in(9000,6,32)\n",
    "batch_ridge_in(10000,6,32)\n",
    "batch_ridge_in(20000,6,32)\n",
    "batch_ridge_in(50000,6,32)\n",
    "batch_ridge_in(400,6,32)"
   ]
  },
  {
   "cell_type": "code",
   "execution_count": 6,
   "metadata": {},
   "outputs": [],
   "source": [
    "def batch_ridge_out(lambda_, degree, batch_size):\n",
    "    x = []\n",
    "    xt = []\n",
    "    for i in range(1,degree+1):\n",
    "        x.append(np.power(X_out_train_ref,i))\n",
    "        xt.append(np.power(X_out_test_ref,i))\n",
    "        \n",
    "    X_train = np.concatenate(x,axis = 1)\n",
    "    y_train = y_out_train_ref\n",
    "    X_test = np.concatenate(xt,axis = 1)\n",
    "    y_test = y_out_test_ref\n",
    "    \n",
    "    #print(\"X_train shape : \", X_train.shape,\"    X_test.shape : \", X_test.shape)\n",
    "    #print(\"y_train shape : \", y_train.shape,\"    y_test.shape : \", y_test.shape)\n",
    "    \n",
    "    num_features = X_train[0].shape[0]\n",
    "    #print(\"number of features : \", num_features)\n",
    "\n",
    "    #print(\"Splitting dataset into batch\")\n",
    "    X_batch = np.array_split(X_train, 1)\n",
    "    y_batch = np.array_split(y_train, 1)\n",
    "\n",
    "    #print(X_batch[0].shape)\n",
    "    \n",
    "    w = []\n",
    "    i=0\n",
    "    for y,batch in zip(y_batch,X_batch):\n",
    "        w.append(implementations.ridge_regression(y, batch,lambda_))\n",
    "    \n",
    "    \n",
    "    wp =  np.sum(np.array(w),axis=0)/(len(X_batch))\n",
    "    \n",
    "    \n",
    "    \n",
    "\n",
    "    y_pred_ridge_train = proj1_helpers.predict_labels(wp,X_train)\n",
    "    y_pred_ridge_test = proj1_helpers.predict_labels(wp,X_test)\n",
    "    s_tr = 0\n",
    "    s_te = 0\n",
    "    tot_tr = 0\n",
    "    for i,y in enumerate(y_train):\n",
    "        if y == y_pred_ridge_train[i]:\n",
    "            s_tr += 1\n",
    "        tot_tr += 1\n",
    "    tot_te = 0\n",
    "    for i,y in enumerate(y_test):\n",
    "        if y == y_pred_ridge_test[i]:\n",
    "            s_te += 1\n",
    "        tot_te += 1\n",
    "\n",
    "    print(\"Ridge precision on train : \",s_tr/tot_tr,\"      Ridge precision on test : \",s_te/tot_te)\n",
    "    \n",
    "    return wp"
   ]
  },
  {
   "cell_type": "code",
   "execution_count": 16,
   "metadata": {},
   "outputs": [
    {
     "name": "stdout",
     "output_type": "stream",
     "text": [
      "Ridge precision on train :  0.8117516557371701       Ridge precision on test :  0.8131238990017616\n",
      "Ridge precision on train :  0.8113438387002055       Ridge precision on test :  0.8128302994715209\n",
      "Ridge precision on train :  0.8110338977521125       Ridge precision on test :  0.8140046975924838\n",
      "Ridge precision on train :  0.8108055202114124       Ridge precision on test :  0.8138578978273635\n",
      "Ridge precision on train :  0.8110012723891553       Ridge precision on test :  0.8138578978273635\n",
      "Ridge precision on train :  0.810936021663241       Ridge precision on test :  0.8142982971227246\n",
      "Ridge precision on train :  0.8104466412188835       Ridge precision on test :  0.8126834997064005\n",
      "Ridge precision on train :  0.8123225995889204       Ridge precision on test :  0.8135642982971227\n"
     ]
    }
   ],
   "source": [
    "wp_out = batch_ridge_out(1000,7,32)\n",
    "wp_out = batch_ridge_out(2000,7,32)\n",
    "wp_out = batch_ridge_out(3000,7,32)\n",
    "wp_out = batch_ridge_out(5000,7,32)\n",
    "wp_out = batch_ridge_out(8000,7,32)\n",
    "wp_out = batch_ridge_out(10000,7,32)\n",
    "wp_out = batch_ridge_out(20000,7,32)\n",
    "wp_out = batch_ridge_out(300,7,32)\n"
   ]
  },
  {
   "cell_type": "code",
   "execution_count": 43,
   "metadata": {},
   "outputs": [],
   "source": [
    "ytest, input_data_test, ids_test = proj1_helpers.load_csv_data(\"test.csv\")\n",
    "xsub = []\n",
    "degree = 7\n",
    "for i in range(1,degree+1):\n",
    "    xsub.append(np.power(input_data_test,i))\n",
    "inp = np.concatenate(xsub,axis = 1)\n",
    "\n"
   ]
  },
  {
   "cell_type": "code",
   "execution_count": 52,
   "metadata": {},
   "outputs": [],
   "source": [
    "ypred = []\n",
    "for i in range(inp.shape[0]):\n",
    "    x = inp[i]\n",
    "    if -999 in x:\n",
    "        ypred.append(np.dot(wp_in,x[:180]))\n",
    "    else:\n",
    "        ypred.append(np.dot(wp_out,x))\n",
    "ypred = np.array(ypred)\n",
    "ypred[np.where(ypred <= 0)] = -1\n",
    "ypred[np.where(ypred > 0)] = 1\n",
    "proj1_helpers.create_csv_submission(ids_test, ypred, \"pred4.csv\")"
   ]
  },
  {
   "cell_type": "code",
   "execution_count": 42,
   "metadata": {},
   "outputs": [
    {
     "name": "stdout",
     "output_type": "stream",
     "text": [
      "Ridge precision on train :  0.807976\n"
     ]
    }
   ],
   "source": [
    "s_te = 0\n",
    "tot_te = 0\n",
    "for i,y in enumerate(ytest):\n",
    "    if y == ypred[i]:\n",
    "        s_te += 1\n",
    "    tot_te += 1\n",
    "\n",
    "print(\"Ridge precision on train : \",s_te/tot_te)#     Ridge precision on test : \",s_te/tot_te)\n",
    "    "
   ]
  },
  {
   "cell_type": "code",
   "execution_count": 23,
   "metadata": {},
   "outputs": [
    {
     "name": "stdout",
     "output_type": "stream",
     "text": [
      "[-1. -1. -1. ..., -1.  1. -1.]\n"
     ]
    }
   ],
   "source": [
    "print(ypred)"
   ]
  },
  {
   "cell_type": "code",
   "execution_count": null,
   "metadata": {},
   "outputs": [],
   "source": []
  }
 ],
 "metadata": {
  "kernelspec": {
   "display_name": "Python 3",
   "language": "python",
   "name": "python3"
  },
  "language_info": {
   "codemirror_mode": {
    "name": "ipython",
    "version": 3
   },
   "file_extension": ".py",
   "mimetype": "text/x-python",
   "name": "python",
   "nbconvert_exporter": "python",
   "pygments_lexer": "ipython3",
   "version": "3.5.4"
  }
 },
 "nbformat": 4,
 "nbformat_minor": 2
}
