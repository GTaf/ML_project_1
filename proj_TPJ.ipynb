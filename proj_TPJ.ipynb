{
 "cells": [
  {
   "cell_type": "code",
   "execution_count": 1,
   "metadata": {},
   "outputs": [],
   "source": [
    "%matplotlib inline\n",
    "import numpy as np\n",
    "import matplotlib.pyplot as plt\n",
    "from implementations_JB import *\n",
    "from proj1_helpers import *\n",
    "%load_ext autoreload\n",
    "%autoreload 2"
   ]
  },
  {
   "cell_type": "code",
   "execution_count": 2,
   "metadata": {},
   "outputs": [],
   "source": [
    "def ultimate_split(yb, input_data, ids):\n",
    "    \"\"\"\n",
    "    The ultimate split. THE real BADA$$.\n",
    "    This is some real shit\n",
    "    \"\"\"\n",
    "    \n",
    "    mask_0 = (input_data[:,22] == 0)\n",
    "    mask_1 = (input_data[:,22] == 1)\n",
    "    mask_2 = (input_data[:,22] == 2)\n",
    "    mask_3 = (input_data[:,22] == 3)\n",
    "\n",
    "    \n",
    "    return yb[mask_0], yb[mask_1], yb[mask_2], yb[mask_3], \\\n",
    "input_data[mask_0], input_data[mask_1], input_data[mask_2], input_data[mask_3], \\\n",
    "ids[mask_0], ids[mask_1], ids[mask_2], ids[mask_3]"
   ]
  },
  {
   "cell_type": "code",
   "execution_count": 3,
   "metadata": {},
   "outputs": [],
   "source": [
    "def remove_features_0(input_data_0):\n",
    "    \"\"\"\n",
    "    Remove the useless features if the jet num feature is equal to 0\n",
    "    \"\"\"\n",
    "    useless_features_index = [4, 5, 6, 12, 23, 24, 25 , 26, 27, 28]# , 30, 33]\n",
    "    \n",
    "    mask = np.ones(int(input_data_0.shape[1]), dtype=bool)\n",
    "    mask[(useless_features_index)] = False\n",
    "    return input_data_0[:,mask]\n",
    "\n",
    "def remove_features_1(input_data_1):\n",
    "    \"\"\"\n",
    "    Remove the useless features if the jet num feature is equal to 1\n",
    "    \"\"\"\n",
    "    useless_features_index = [4, 5, 6, 26, 27, 28]#, 30, 33]\n",
    "    \n",
    "    mask = np.ones(int(input_data_1.shape[1]), dtype=bool)\n",
    "    mask[(useless_features_index)] = False\n",
    "    return input_data_1[:,mask]\n",
    "\n",
    "    # No need for jet_num equal to 2 or 3 : all the features are kept   "
   ]
  },
  {
   "cell_type": "code",
   "execution_count": 4,
   "metadata": {},
   "outputs": [],
   "source": [
    "def angle_features_processing(data_path):\n",
    "    \"\"\"\n",
    "    We want to change all the features representing an angle into two features\n",
    "    one for cosinus of the angle and another for sinus of the angle.\n",
    "    \"\"\"\n",
    "    \n",
    "    yb, input_data, ids = load_csv_data(data_path,sub_sample = False)\n",
    "\n",
    "    angle_features = [15, 18, 20, 25, 28]\n",
    "    \n",
    "    new_data = np.zeros((input_data.shape[0], input_data.shape[1] + len(angle_features) ))\n",
    "    \n",
    "    for k in range(input_data.shape[1]):\n",
    "        if k not in angle_features:\n",
    "            new_data[:, k] = input_data[:, k]\n",
    "        \n",
    "    for idx, column in enumerate(angle_features): \n",
    "        \n",
    "        new_data[:, column] = np.cos(input_data[:, column])\n",
    "        new_data[:, input_data.shape[1] + idx] = np.sin(input_data[:, column])\n",
    "    \n",
    "    return yb, new_data, ids"
   ]
  },
  {
   "cell_type": "code",
   "execution_count": 5,
   "metadata": {},
   "outputs": [],
   "source": [
    "def build_poly(x, degree):\n",
    "    \"\"\"polynomial basis functions for input data x, for j=0 up to j=degree.\"\"\"\n",
    "    poly = np.ones((len(x), 1))\n",
    "    for deg in range(1, degree+1):\n",
    "        poly = np.c_[poly, np.power(x, deg)]\n",
    "    return poly"
   ]
  },
  {
   "cell_type": "code",
   "execution_count": 6,
   "metadata": {},
   "outputs": [],
   "source": [
    "def least_squares_implementation(yb, data, ids, max_deg):\n",
    "    \"\"\"\n",
    "    The inputs of this function are arrays containing the data from the separation into 4 parts\n",
    "    depending on the value of the jet_num index\n",
    "    \"\"\"\n",
    "    \n",
    "    best_deg = np.zeros(4)\n",
    "    min_loss = np.Inf*np.ones(4)\n",
    "    w = np.zeros((4, max_deg+1))\n",
    "    losses = np.zeros((4, max_deg+1))\n",
    "    \n",
    "    for i in range(3):\n",
    "        # We test for polynomes from degree 0 to max_deg\n",
    "        for deg in range(max_deg + 1):\n",
    "\n",
    "            poly = build_poly(data[i], deg)\n",
    "            w[i, deg], losses[i, deg] = least_squares(yb[i], poly)\n",
    "            \n",
    "            if (losses[i, deg] < min_loss[i]):\n",
    "                min_loss[i] = losses[i, deg]\n",
    "                best_deg[i] = deg\n",
    "            \n",
    "    return w[0, best_deg[0]], w[1, best_deg[1]], w[2, best_deg[2]], w[3, best_deg[3]] "
   ]
  },
  {
   "cell_type": "code",
   "execution_count": 15,
   "metadata": {},
   "outputs": [
    {
     "ename": "ValueError",
     "evalue": "The truth value of an array with more than one element is ambiguous. Use a.any() or a.all()",
     "output_type": "error",
     "traceback": [
      "\u001b[1;31m---------------------------------------------------------------------------\u001b[0m",
      "\u001b[1;31mValueError\u001b[0m                                Traceback (most recent call last)",
      "\u001b[1;32m<ipython-input-15-4b3c72e37c66>\u001b[0m in \u001b[0;36m<module>\u001b[1;34m()\u001b[0m\n\u001b[0;32m      7\u001b[0m \u001b[1;33m\u001b[0m\u001b[0m\n\u001b[0;32m      8\u001b[0m \u001b[0myb0t\u001b[0m\u001b[1;33m,\u001b[0m \u001b[0myb1t\u001b[0m\u001b[1;33m,\u001b[0m \u001b[0myb2t\u001b[0m\u001b[1;33m,\u001b[0m \u001b[0myb3t\u001b[0m\u001b[1;33m,\u001b[0m \u001b[0mdata0t\u001b[0m\u001b[1;33m,\u001b[0m \u001b[0mdata1t\u001b[0m\u001b[1;33m,\u001b[0m \u001b[0mdata2t\u001b[0m\u001b[1;33m,\u001b[0m \u001b[0mdata3t\u001b[0m\u001b[1;33m,\u001b[0m \u001b[0mids0t\u001b[0m\u001b[1;33m,\u001b[0m \u001b[0mids1t\u001b[0m\u001b[1;33m,\u001b[0m \u001b[0mids2t\u001b[0m\u001b[1;33m,\u001b[0m \u001b[0mids3t\u001b[0m \u001b[1;33m=\u001b[0m \u001b[0multimate_split\u001b[0m\u001b[1;33m(\u001b[0m\u001b[0myb_test\u001b[0m\u001b[1;33m,\u001b[0m \u001b[0minput_data_test\u001b[0m\u001b[1;33m,\u001b[0m \u001b[0mids_test\u001b[0m\u001b[1;33m)\u001b[0m\u001b[1;33m\u001b[0m\u001b[0m\n\u001b[1;32m----> 9\u001b[1;33m \u001b[0mdata0t\u001b[0m\u001b[1;33m,\u001b[0m \u001b[0mdata1t\u001b[0m\u001b[1;33m,\u001b[0m \u001b[0mdata2t\u001b[0m\u001b[1;33m,\u001b[0m \u001b[0mdata3t\u001b[0m \u001b[1;33m=\u001b[0m \u001b[0mstandardize\u001b[0m\u001b[1;33m(\u001b[0m\u001b[0mdata0t\u001b[0m\u001b[1;33m)\u001b[0m\u001b[1;33m,\u001b[0m \u001b[0mstandardize\u001b[0m\u001b[1;33m(\u001b[0m\u001b[0mdata1t\u001b[0m\u001b[1;33m)\u001b[0m\u001b[1;33m,\u001b[0m \u001b[0mstandardize\u001b[0m\u001b[1;33m(\u001b[0m\u001b[0mdata2t\u001b[0m\u001b[1;33m)\u001b[0m\u001b[1;33m,\u001b[0m \u001b[0mstandardize\u001b[0m\u001b[1;33m(\u001b[0m\u001b[0mdata3t\u001b[0m\u001b[1;33m)\u001b[0m\u001b[1;33m\u001b[0m\u001b[0m\n\u001b[0m\u001b[0;32m     10\u001b[0m \u001b[1;33m\u001b[0m\u001b[0m\n\u001b[0;32m     11\u001b[0m \u001b[1;33m\u001b[0m\u001b[0m\n",
      "\u001b[1;32mC:\\Users\\Dell\\Documents\\ML_Projects\\ML_project_1\\implementations_JB.py\u001b[0m in \u001b[0;36mstandardize\u001b[1;34m(x)\u001b[0m\n\u001b[0;32m      6\u001b[0m     \u001b[0mx\u001b[0m \u001b[1;33m=\u001b[0m \u001b[0mx\u001b[0m \u001b[1;33m-\u001b[0m \u001b[0mmean_x\u001b[0m\u001b[1;33m\u001b[0m\u001b[0m\n\u001b[0;32m      7\u001b[0m     \u001b[0mstd_x\u001b[0m \u001b[1;33m=\u001b[0m \u001b[0mnp\u001b[0m\u001b[1;33m.\u001b[0m\u001b[0mstd\u001b[0m\u001b[1;33m(\u001b[0m\u001b[0mx\u001b[0m\u001b[1;33m,\u001b[0m\u001b[0maxis\u001b[0m\u001b[1;33m=\u001b[0m\u001b[1;36m0\u001b[0m\u001b[1;33m)\u001b[0m\u001b[1;33m\u001b[0m\u001b[0m\n\u001b[1;32m----> 8\u001b[1;33m     \u001b[1;32mif\u001b[0m \u001b[1;33m(\u001b[0m\u001b[0mstd_x\u001b[0m\u001b[1;33m!=\u001b[0m\u001b[1;36m0\u001b[0m\u001b[1;33m)\u001b[0m\u001b[1;33m:\u001b[0m\u001b[1;33m\u001b[0m\u001b[0m\n\u001b[0m\u001b[0;32m      9\u001b[0m         \u001b[0mx\u001b[0m \u001b[1;33m=\u001b[0m \u001b[0mx\u001b[0m \u001b[1;33m/\u001b[0m \u001b[0mstd_x\u001b[0m\u001b[1;33m\u001b[0m\u001b[0m\n\u001b[0;32m     10\u001b[0m     \u001b[1;32mreturn\u001b[0m \u001b[0mx\u001b[0m\u001b[1;33m\u001b[0m\u001b[0m\n",
      "\u001b[1;31mValueError\u001b[0m: The truth value of an array with more than one element is ambiguous. Use a.any() or a.all()"
     ]
    }
   ],
   "source": [
    "# Processing the angle features\n",
    "yb, input_data, ids =  angle_features_processing(\"train.csv\")\n",
    "#yb, input_data, ids = load_csv_data(\"train.csv\",sub_sample = False)\n",
    "yb_test, input_data_test, ids_test = angle_features_processing(\"test.csv\")\n",
    "\n",
    "yb0, yb1, yb2, yb3, data0, data1, data2, data3, ids0, ids1, ids2, ids3 = ultimate_split(yb, input_data, ids)\n",
    "\n",
    "yb0t, yb1t, yb2t, yb3t, data0t, data1t, data2t, data3t, ids0t, ids1t, ids2t, ids3t = ultimate_split(yb_test, input_data_test, ids_test)\n",
    "data0t, data1t, data2t, data3t = standardize(data0t), standardize(data1t), standardize(data2t), standardize(data3t)\n",
    "\n",
    "\n",
    "data0, data1 = remove_features_0(data0), remove_features_1(data1)\n",
    "data0t, data1t = remove_features_0(data0t), remove_features_1(data1t)\n",
    "\n",
    "data0, data1, data2, data3 = standardize(data0), standardize(data1), standardize(data2), standardize(data3)\n",
    "data0t, data1t, data2t, data3t = standardize(data0t), standardize(data1t), standardize(data2t), standardize(data3t)"
   ]
  },
  {
   "cell_type": "code",
   "execution_count": null,
   "metadata": {},
   "outputs": [],
   "source": [
    "yb = np.array([yb0,yb1,yb2,yb3])\n",
    "data = np.array([data0,data1,data2,data3])\n",
    "ids = np.array([ids0,ids1,ids2,ids3])\n",
    "\n",
    "ybt = np.array([yb0t,yb1t,yb2t,yb3t])\n",
    "datat = np.array([data0t,data1t,data2t,data3t])\n",
    "idst = np.array([ids0t,ids1t,ids2t,ids3t])\n",
    "\n",
    "w0, w1, w2, w3 = least_squares_implementation(yb, data, ids, 10)"
   ]
  },
  {
   "cell_type": "code",
   "execution_count": 13,
   "metadata": {},
   "outputs": [
    {
     "name": "stdout",
     "output_type": "stream",
     "text": [
      "(99913L,)\n",
      "3.022436146427818e-17\n",
      "0.9999999999999999\n"
     ]
    },
    {
     "data": {
      "image/png": "[encoded data removed]",
      "text/plain": [
       "<Figure size 432x288 with 1 Axes>"
      ]
     },
     "metadata": {},
     "output_type": "display_data"
    },
    {
     "data": {
      "image/png": "[encoded data removed]",
      "text/plain": [
       "<Figure size 432x288 with 1 Axes>"
      ]
     },
     "metadata": {},
     "output_type": "display_data"
    },
    {
     "data": {
      "image/png": "[encoded data removed]",
      "text/plain": [
       "<Figure size 432x288 with 1 Axes>"
      ]
     },
     "metadata": {},
     "output_type": "display_data"
    },
    {
     "name": "stdout",
     "output_type": "stream",
     "text": [
      "(99913L,)\n",
      "3.0046571102723605e-17\n",
      "1.0\n"
     ]
    },
    {
     "data": {
      "image/png": "[encoded data removed]",
      "text/plain": [
       "<Figure size 432x288 with 1 Axes>"
      ]
     },
     "metadata": {},
     "output_type": "display_data"
    },
    {
     "data": {
      "image/png": "[encoded data removed]",
      "text/plain": [
       "<Figure size 432x288 with 1 Axes>"
      ]
     },
     "metadata": {},
     "output_type": "display_data"
    },
    {
     "data": {
      "image/png": "[encoded data removed]",
      "text/plain": [
       "<Figure size 432x288 with 1 Axes>"
      ]
     },
     "metadata": {},
     "output_type": "display_data"
    },
    {
     "name": "stdout",
     "output_type": "stream",
     "text": [
      "(99913L,)\n",
      "-2.3788350376002473e-17\n",
      "0.9999999999999998\n"
     ]
    },
    {
     "data": {
      "image/png": "[encoded data removed]",
      "text/plain": [
       "<Figure size 432x288 with 1 Axes>"
      ]
     },
     "metadata": {},
     "output_type": "display_data"
    },
    {
     "data": {
      "image/png": "[encoded data removed]",
      "text/plain": [
       "<Figure size 432x288 with 1 Axes>"
      ]
     },
     "metadata": {},
     "output_type": "display_data"
    },
    {
     "data": {
      "image/png": "[encoded data removed]",
      "text/plain": [
       "<Figure size 432x288 with 1 Axes>"
      ]
     },
     "metadata": {},
     "output_type": "display_data"
    },
    {
     "name": "stdout",
     "output_type": "stream",
     "text": [
      "(99913L,)\n",
      "inf\n",
      "nan\n"
     ]
    },
    {
     "name": "stderr",
     "output_type": "stream",
     "text": [
      "C:\\Programmes\\Anaconda\\lib\\site-packages\\numpy\\core\\_methods.py:112: RuntimeWarning: invalid value encountered in subtract\n",
      "  x = asanyarray(arr - arrmean)\n"
     ]
    },
    {
     "ename": "ValueError",
     "evalue": "range parameter must be finite.",
     "output_type": "error",
     "traceback": [
      "\u001b[1;31m---------------------------------------------------------------------------\u001b[0m",
      "\u001b[1;31mValueError\u001b[0m                                Traceback (most recent call last)",
      "\u001b[1;32m<ipython-input-13-40eeaaea8c37>\u001b[0m in \u001b[0;36m<module>\u001b[1;34m()\u001b[0m\n\u001b[0;32m     14\u001b[0m     \u001b[0mplt\u001b[0m\u001b[1;33m.\u001b[0m\u001b[0mshow\u001b[0m\u001b[1;33m(\u001b[0m\u001b[1;33m)\u001b[0m\u001b[1;33m\u001b[0m\u001b[0m\n\u001b[0;32m     15\u001b[0m \u001b[1;32mfor\u001b[0m \u001b[0mi\u001b[0m \u001b[1;32min\u001b[0m \u001b[0mrange\u001b[0m\u001b[1;33m(\u001b[0m\u001b[1;36m20\u001b[0m\u001b[1;33m,\u001b[0m\u001b[1;36m30\u001b[0m\u001b[1;33m)\u001b[0m\u001b[1;33m:\u001b[0m\u001b[1;33m\u001b[0m\u001b[0m\n\u001b[1;32m---> 16\u001b[1;33m     \u001b[0mhisto\u001b[0m\u001b[1;33m(\u001b[0m\u001b[0mi\u001b[0m\u001b[1;33m,\u001b[0m\u001b[0myb0\u001b[0m\u001b[1;33m,\u001b[0m \u001b[0mdata0\u001b[0m\u001b[1;33m,\u001b[0m\u001b[1;36m100\u001b[0m\u001b[1;33m)\u001b[0m\u001b[1;33m\u001b[0m\u001b[0m\n\u001b[0m",
      "\u001b[1;32m<ipython-input-13-40eeaaea8c37>\u001b[0m in \u001b[0;36mhisto\u001b[1;34m(index_feature, yb, data, bins)\u001b[0m\n\u001b[0;32m      6\u001b[0m     \u001b[1;32mprint\u001b[0m \u001b[0mnp\u001b[0m\u001b[1;33m.\u001b[0m\u001b[0mmean\u001b[0m\u001b[1;33m(\u001b[0m\u001b[0mdata_array\u001b[0m\u001b[1;33m)\u001b[0m\u001b[1;33m\u001b[0m\u001b[0m\n\u001b[0;32m      7\u001b[0m     \u001b[1;32mprint\u001b[0m \u001b[0mnp\u001b[0m\u001b[1;33m.\u001b[0m\u001b[0mstd\u001b[0m\u001b[1;33m(\u001b[0m\u001b[0mdata_array\u001b[0m\u001b[1;33m)\u001b[0m\u001b[1;33m\u001b[0m\u001b[0m\n\u001b[1;32m----> 8\u001b[1;33m     \u001b[0mplt\u001b[0m\u001b[1;33m.\u001b[0m\u001b[0mhist\u001b[0m\u001b[1;33m(\u001b[0m\u001b[0mdata_array\u001b[0m\u001b[1;33m,\u001b[0m\u001b[0mbins\u001b[0m\u001b[1;33m)\u001b[0m\u001b[1;33m\u001b[0m\u001b[0m\n\u001b[0m\u001b[0;32m      9\u001b[0m     \u001b[0mplt\u001b[0m\u001b[1;33m.\u001b[0m\u001b[0mylabel\u001b[0m\u001b[1;33m(\u001b[0m\u001b[1;34m\"Feature \"\u001b[0m\u001b[1;33m+\u001b[0m\u001b[0mstr\u001b[0m\u001b[1;33m(\u001b[0m\u001b[0mi\u001b[0m\u001b[1;33m)\u001b[0m\u001b[1;33m)\u001b[0m\u001b[1;33m\u001b[0m\u001b[0m\n\u001b[0;32m     10\u001b[0m     \u001b[0mplt\u001b[0m\u001b[1;33m.\u001b[0m\u001b[0mfigure\u001b[0m\u001b[1;33m(\u001b[0m\u001b[1;33m)\u001b[0m\u001b[1;33m\u001b[0m\u001b[0m\n",
      "\u001b[1;32mC:\\Programmes\\Anaconda\\lib\\site-packages\\matplotlib\\pyplot.pyc\u001b[0m in \u001b[0;36mhist\u001b[1;34m(x, bins, range, density, weights, cumulative, bottom, histtype, align, orientation, rwidth, log, color, label, stacked, normed, hold, data, **kwargs)\u001b[0m\n\u001b[0;32m   3130\u001b[0m                       \u001b[0mhisttype\u001b[0m\u001b[1;33m=\u001b[0m\u001b[0mhisttype\u001b[0m\u001b[1;33m,\u001b[0m \u001b[0malign\u001b[0m\u001b[1;33m=\u001b[0m\u001b[0malign\u001b[0m\u001b[1;33m,\u001b[0m \u001b[0morientation\u001b[0m\u001b[1;33m=\u001b[0m\u001b[0morientation\u001b[0m\u001b[1;33m,\u001b[0m\u001b[1;33m\u001b[0m\u001b[0m\n\u001b[0;32m   3131\u001b[0m                       \u001b[0mrwidth\u001b[0m\u001b[1;33m=\u001b[0m\u001b[0mrwidth\u001b[0m\u001b[1;33m,\u001b[0m \u001b[0mlog\u001b[0m\u001b[1;33m=\u001b[0m\u001b[0mlog\u001b[0m\u001b[1;33m,\u001b[0m \u001b[0mcolor\u001b[0m\u001b[1;33m=\u001b[0m\u001b[0mcolor\u001b[0m\u001b[1;33m,\u001b[0m \u001b[0mlabel\u001b[0m\u001b[1;33m=\u001b[0m\u001b[0mlabel\u001b[0m\u001b[1;33m,\u001b[0m\u001b[1;33m\u001b[0m\u001b[0m\n\u001b[1;32m-> 3132\u001b[1;33m                       stacked=stacked, normed=normed, data=data, **kwargs)\n\u001b[0m\u001b[0;32m   3133\u001b[0m     \u001b[1;32mfinally\u001b[0m\u001b[1;33m:\u001b[0m\u001b[1;33m\u001b[0m\u001b[0m\n\u001b[0;32m   3134\u001b[0m         \u001b[0max\u001b[0m\u001b[1;33m.\u001b[0m\u001b[0m_hold\u001b[0m \u001b[1;33m=\u001b[0m \u001b[0mwashold\u001b[0m\u001b[1;33m\u001b[0m\u001b[0m\n",
      "\u001b[1;32mC:\\Programmes\\Anaconda\\lib\\site-packages\\matplotlib\\__init__.pyc\u001b[0m in \u001b[0;36minner\u001b[1;34m(ax, *args, **kwargs)\u001b[0m\n\u001b[0;32m   1853\u001b[0m                         \u001b[1;34m\"the Matplotlib list!)\"\u001b[0m \u001b[1;33m%\u001b[0m \u001b[1;33m(\u001b[0m\u001b[0mlabel_namer\u001b[0m\u001b[1;33m,\u001b[0m \u001b[0mfunc\u001b[0m\u001b[1;33m.\u001b[0m\u001b[0m__name__\u001b[0m\u001b[1;33m)\u001b[0m\u001b[1;33m,\u001b[0m\u001b[1;33m\u001b[0m\u001b[0m\n\u001b[0;32m   1854\u001b[0m                         RuntimeWarning, stacklevel=2)\n\u001b[1;32m-> 1855\u001b[1;33m             \u001b[1;32mreturn\u001b[0m \u001b[0mfunc\u001b[0m\u001b[1;33m(\u001b[0m\u001b[0max\u001b[0m\u001b[1;33m,\u001b[0m \u001b[1;33m*\u001b[0m\u001b[0margs\u001b[0m\u001b[1;33m,\u001b[0m \u001b[1;33m**\u001b[0m\u001b[0mkwargs\u001b[0m\u001b[1;33m)\u001b[0m\u001b[1;33m\u001b[0m\u001b[0m\n\u001b[0m\u001b[0;32m   1856\u001b[0m \u001b[1;33m\u001b[0m\u001b[0m\n\u001b[0;32m   1857\u001b[0m         inner.__doc__ = _add_data_doc(inner.__doc__,\n",
      "\u001b[1;32mC:\\Programmes\\Anaconda\\lib\\site-packages\\matplotlib\\axes\\_axes.pyc\u001b[0m in \u001b[0;36mhist\u001b[1;34m(***failed resolving arguments***)\u001b[0m\n\u001b[0;32m   6528\u001b[0m             \u001b[1;31m# this will automatically overwrite bins,\u001b[0m\u001b[1;33m\u001b[0m\u001b[1;33m\u001b[0m\u001b[0m\n\u001b[0;32m   6529\u001b[0m             \u001b[1;31m# so that each histogram uses the same bins\u001b[0m\u001b[1;33m\u001b[0m\u001b[1;33m\u001b[0m\u001b[0m\n\u001b[1;32m-> 6530\u001b[1;33m             \u001b[0mm\u001b[0m\u001b[1;33m,\u001b[0m \u001b[0mbins\u001b[0m \u001b[1;33m=\u001b[0m \u001b[0mnp\u001b[0m\u001b[1;33m.\u001b[0m\u001b[0mhistogram\u001b[0m\u001b[1;33m(\u001b[0m\u001b[0mx\u001b[0m\u001b[1;33m[\u001b[0m\u001b[0mi\u001b[0m\u001b[1;33m]\u001b[0m\u001b[1;33m,\u001b[0m \u001b[0mbins\u001b[0m\u001b[1;33m,\u001b[0m \u001b[0mweights\u001b[0m\u001b[1;33m=\u001b[0m\u001b[0mw\u001b[0m\u001b[1;33m[\u001b[0m\u001b[0mi\u001b[0m\u001b[1;33m]\u001b[0m\u001b[1;33m,\u001b[0m \u001b[1;33m**\u001b[0m\u001b[0mhist_kwargs\u001b[0m\u001b[1;33m)\u001b[0m\u001b[1;33m\u001b[0m\u001b[0m\n\u001b[0m\u001b[0;32m   6531\u001b[0m             \u001b[0mm\u001b[0m \u001b[1;33m=\u001b[0m \u001b[0mm\u001b[0m\u001b[1;33m.\u001b[0m\u001b[0mastype\u001b[0m\u001b[1;33m(\u001b[0m\u001b[0mfloat\u001b[0m\u001b[1;33m)\u001b[0m  \u001b[1;31m# causes problems later if it's an int\u001b[0m\u001b[1;33m\u001b[0m\u001b[0m\n\u001b[0;32m   6532\u001b[0m             \u001b[1;32mif\u001b[0m \u001b[0mmlast\u001b[0m \u001b[1;32mis\u001b[0m \u001b[0mNone\u001b[0m\u001b[1;33m:\u001b[0m\u001b[1;33m\u001b[0m\u001b[0m\n",
      "\u001b[1;32mC:\\Programmes\\Anaconda\\lib\\site-packages\\numpy\\lib\\function_base.pyc\u001b[0m in \u001b[0;36mhistogram\u001b[1;34m(a, bins, range, normed, weights, density)\u001b[0m\n\u001b[0;32m    668\u001b[0m     \u001b[1;32mif\u001b[0m \u001b[1;32mnot\u001b[0m \u001b[0mnp\u001b[0m\u001b[1;33m.\u001b[0m\u001b[0mall\u001b[0m\u001b[1;33m(\u001b[0m\u001b[0mnp\u001b[0m\u001b[1;33m.\u001b[0m\u001b[0misfinite\u001b[0m\u001b[1;33m(\u001b[0m\u001b[1;33m[\u001b[0m\u001b[0mfirst_edge\u001b[0m\u001b[1;33m,\u001b[0m \u001b[0mlast_edge\u001b[0m\u001b[1;33m]\u001b[0m\u001b[1;33m)\u001b[0m\u001b[1;33m)\u001b[0m\u001b[1;33m:\u001b[0m\u001b[1;33m\u001b[0m\u001b[0m\n\u001b[0;32m    669\u001b[0m         raise ValueError(\n\u001b[1;32m--> 670\u001b[1;33m             'range parameter must be finite.')\n\u001b[0m\u001b[0;32m    671\u001b[0m     \u001b[1;32mif\u001b[0m \u001b[0mfirst_edge\u001b[0m \u001b[1;33m==\u001b[0m \u001b[0mlast_edge\u001b[0m\u001b[1;33m:\u001b[0m\u001b[1;33m\u001b[0m\u001b[0m\n\u001b[0;32m    672\u001b[0m         \u001b[0mfirst_edge\u001b[0m \u001b[1;33m-=\u001b[0m \u001b[1;36m0.5\u001b[0m\u001b[1;33m\u001b[0m\u001b[0m\n",
      "\u001b[1;31mValueError\u001b[0m: range parameter must be finite."
     ]
    },
    {
     "data": {
      "image/png": "[encoded data removed]",
      "text/plain": [
       "<Figure size 432x288 with 1 Axes>"
      ]
     },
     "metadata": {},
     "output_type": "display_data"
    }
   ],
   "source": [
    "def histo(index_feature, yb, data,bins):\n",
    "    data_array = data[:,index_feature]\n",
    "    print data_array.shape\n",
    "\n",
    "    data_mask = np.where(yb>0, True, False) # Transforming in a boolean mask\n",
    "    print np.mean(data_array)\n",
    "    print np.std(data_array)\n",
    "    plt.hist(data_array,bins)\n",
    "    plt.ylabel(\"Feature \"+str(i))\n",
    "    plt.figure()\n",
    "    plt.hist(data_array[data_mask],bins)\n",
    "    plt.figure()\n",
    "    plt.hist(data_array[np.invert(data_mask)],bins)\n",
    "    plt.show()\n",
    "for i in range(20,30):    \n",
    "    histo(i,yb0, data0,100)"
   ]
  },
  {
   "cell_type": "code",
   "execution_count": null,
   "metadata": {},
   "outputs": [],
   "source": [
    "def submission_ridge_4split(deg0, deg1, deg2, deg3,lambda0, lambda1, lambda2, lambda3):\n",
    "    \n",
    "    #For the jet_num 0 data\n",
    "    yb_t, input_data_t, ids_t =  angle_features_processing(\"test.csv\")\n",
    "    input_data_t = standardize(input_data_t)\n",
    "    yb0t, yb1t, yb2t, yb3t, data0t, data1t, data2t, data3t, ids0t, ids1t, ids2t, ids3t = ultimate_split(yb_t, input_data_t, ids_t)\n",
    "\n",
    "    data0t = remove_features_0(data0t)\n",
    "    data1t = remove_features_1(data1t)\n",
    "    data0t = standardize(data0t)\n",
    "    data1t = standardize(data1t)\n",
    "    data2t = standardize(data2t)\n",
    "    data3t = standardize(data3t)\n",
    "        \n",
    "    poly_test0 = build_poly(data0t, deg0)\n",
    "\n",
    "    poly0 = build_poly(data0,deg0)\n",
    "    w, train_loss, test_loss, y_pred0 = ridge(yb0t, poly_test0, yb0, poly0,lambda0)\n",
    "    \n",
    "    #For the jet_num 1 data\n",
    "    poly_test1 = build_poly(data1t, deg1)\n",
    "    poly1 = build_poly(data1,deg1)\n",
    "    w, train_loss, test_loss, y_pred1 = ridge(yb1t, poly_test1, yb1, poly1,lambda1)\n",
    "    \n",
    "    #For the jet_num 2 data\n",
    "    poly_test2 = build_poly(data2t, deg2)\n",
    "    poly2 = build_poly(data2,deg2)\n",
    "    w, train_loss, test_loss, y_pred2 = ridge(yb2t, poly_test2, yb2, poly2,lambda2)\n",
    "\n",
    "    #For the jet_num 3 data\n",
    "    poly_test3 = build_poly(data3t, deg3)\n",
    "    poly3 = build_poly(data3,deg3)\n",
    "    w, train_loss, test_loss, y_pred3 = ridge(yb3t, poly_test3, yb3, poly3,lambda3)\n",
    "\n",
    "    \n",
    "    \n",
    "    final_ids_test = np.concatenate((ids0t, ids1t, ids2t, ids3t))\n",
    "    final_y_pred = np.concatenate((y_pred0,y_pred1,y_pred2,y_pred3))\n",
    "    create_csv_submission(final_ids_test, final_y_pred, \"pred_4split.csv\")\n",
    "    \n",
    "submission_ridge_4split(7,8,8,9,10,10,10,10) "
   ]
  },
  {
   "cell_type": "code",
   "execution_count": 14,
   "metadata": {},
   "outputs": [
    {
     "name": "stdout",
     "output_type": "stream",
     "text": [
      "[4 6]\n"
     ]
    }
   ],
   "source": [
    "x = np.array([1,1,1,-1,1,-1,1])\n",
    "y = np.array([1,2,3,4,5,6,7])\n",
    "x = np.where(x>0, True, False)\n",
    "print y[np.invert(x)]"
   ]
  },
  {
   "cell_type": "code",
   "execution_count": 50,
   "metadata": {},
   "outputs": [
    {
     "data": {
      "text/plain": [
       "(99913L, 25L)"
      ]
     },
     "execution_count": 50,
     "metadata": {},
     "output_type": "execute_result"
    }
   ],
   "source": [
    "data0.shape"
   ]
  },
  {
   "cell_type": "code",
   "execution_count": 60,
   "metadata": {},
   "outputs": [
    {
     "name": "stdout",
     "output_type": "stream",
     "text": [
      "(99913L, 25L)\n"
     ]
    }
   ],
   "source": [
    "prout = data0[:,8]\n",
    "print data0.shape"
   ]
  },
  {
   "cell_type": "code",
   "execution_count": null,
   "metadata": {},
   "outputs": [],
   "source": []
  }
 ],
 "metadata": {
  "kernelspec": {
   "display_name": "Python 2",
   "language": "python",
   "name": "python2"
  },
  "language_info": {
   "codemirror_mode": {
    "name": "ipython",
    "version": 2
   },
   "file_extension": ".py",
   "mimetype": "text/x-python",
   "name": "python",
   "nbconvert_exporter": "python",
   "pygments_lexer": "ipython2",
   "version": "2.7.15"
  }
 },
 "nbformat": 4,
 "nbformat_minor": 2
}
