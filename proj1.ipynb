{
 "cells": [
  {
   "cell_type": "code",
   "execution_count": 2,
   "metadata": {},
   "outputs": [],
   "source": [
    "%matplotlib inline\n",
    "import numpy as np\n",
    "import matplotlib.pyplot as plt\n",
    "from implementations import *\n",
    "from proj1_helpers import *\n",
    "%load_ext autoreload\n",
    "%autoreload 2"
   ]
  },
  {
   "cell_type": "code",
   "execution_count": 22,
   "metadata": {},
   "outputs": [],
   "source": [
    "def ultimate_split(yb, input_data, ids):\n",
    "    \"\"\"\n",
    "    The ultimate split. THE real BADA$$.\n",
    "    \"\"\"\n",
    "    \n",
    "    mask_0 = (input_data[:,22] == 0)\n",
    "    mask_1 = (input_data[:,22] == 1)\n",
    "    mask_2 = (input_data[:,22] == 2)\n",
    "    mask_3 = (input_data[:,22] == 3)\n",
    "    \n",
    "    return yb[mask_0], yb[mask_1], yb[mask_2], yb[mask_3], \\\n",
    "input_data[mask_0], input_data[mask_1], input_data[mask_2], input_data[mask_3], \\\n",
    "ids[mask_0], ids[mask_1], ids[mask_2], ids[mask_3]"
   ]
  },
  {
   "cell_type": "code",
   "execution_count": 23,
   "metadata": {},
   "outputs": [],
   "source": [
    "def remove_features_0(input_data_0):\n",
    "    \"\"\"\n",
    "    Remove the useless features if the jet num feature is equal to 0\n",
    "    \"\"\"\n",
    "    useless_features_index = [4, 5, 6, 12, 23, 24, 25 , 26, 27, 28, 30, 33]\n",
    "    \n",
    "    mask = np.ones(int(input_data_0.shape[1]), dtype=bool)\n",
    "    mask[(useless_features_index)] = False\n",
    "    return input_data_0[:,mask]\n",
    "\n",
    "def remove_features_1(input_data_1):\n",
    "    \"\"\"\n",
    "    Remove the useless features if the jet num feature is equal to 1\n",
    "    \"\"\"\n",
    "    useless_features_index = [4, 5, 6, 26, 27, 28, 30, 33]\n",
    "    \n",
    "    mask = np.ones(int(input_data_1.shape[1]), dtype=bool)\n",
    "    mask[(useless_features_index)] = False\n",
    "    return input_data_1[:,mask]\n",
    "\n",
    "    # No need for jet_num equal to 2 or 3 : all the features are kept    \n",
    "    "
   ]
  },
  {
   "cell_type": "code",
   "execution_count": 24,
   "metadata": {},
   "outputs": [],
   "source": [
    "def angle_features_processing(data_path):\n",
    "    \"\"\"\n",
    "    We want to change all the features representing an angle into two features\n",
    "    one for cosinus of the angle and another for sinus of the angle.\n",
    "    \"\"\"\n",
    "    \n",
    "    yb, input_data, ids = load_csv_data(data_path,sub_sample = False)\n",
    "\n",
    "    angle_features = [15, 18, 20, 25, 28]\n",
    "    \n",
    "    new_data = np.zeros((input_data.shape[0], input_data.shape[1] + len(angle_features) ))\n",
    "    \n",
    "    for k in range(input_data.shape[1]):\n",
    "        if k not in angle_features:\n",
    "            new_data[:, k] = input_data[:, k]\n",
    "        \n",
    "    for idx, column in enumerate(angle_features): \n",
    "        \n",
    "        new_data[:, column] = np.cos(input_data[:, column])\n",
    "        new_data[:, input_data.shape[1] + idx] = np.sin(input_data[:, column])\n",
    "    \n",
    "    return yb, new_data, ids"
   ]
  },
  {
   "cell_type": "code",
   "execution_count": 25,
   "metadata": {},
   "outputs": [],
   "source": [
    "yb, input_data, ids =  angle_features_processing(\"train.csv\")\n",
    "\n",
    "yb0, yb1, yb2, yb3, data0, data1, data2, data3, ids0, ids1, ids2, ids3 = ultimate_split(yb, input_data, ids)\n",
    "\n",
    "data0 = remove_features_0(data0)\n",
    "data1 = remove_features_1(data1)"
   ]
  },
  {
   "cell_type": "code",
   "execution_count": null,
   "metadata": {},
   "outputs": [],
   "source": []
  },
  {
   "cell_type": "code",
   "execution_count": 16,
   "metadata": {},
   "outputs": [],
   "source": [
    "def jet_num_split_alt(yb, input_data, ids):\n",
    "    \"\"\" jet_num is feature number 22 (starting counting at 0)\n",
    "    returns 1) the data with jet_num <= 1 and 2) the data with jet_num >1\n",
    "    4 5 6 23 24 25 26 27\"\"\"\n",
    "    bool_mask = (input_data[:,22]<=1)\n",
    "\n",
    "    return yb[bool_mask], input_data[bool_mask], ids[bool_mask], yb[np.invert(bool_mask)], input_data[np.invert(bool_mask)], ids[np.invert(bool_mask)]\n",
    "\n",
    "def remove_useless_features_alt(input_data_jetnum_inf1):\n",
    "    useless_features_index = [4,5,6,23,24,25,26,27,28, 30, 33]\n",
    "    mask = np.ones(int(input_data_jetnum_inf1.shape[1]), dtype=bool)\n",
    "    # print(mask.shape)\n",
    "    mask[(useless_features_index)] = False\n",
    "    return input_data_jetnum_inf1[:,mask]"
   ]
  },
  {
   "cell_type": "code",
   "execution_count": 48,
   "metadata": {},
   "outputs": [],
   "source": [
    "def jet_num_split(data_path, sub_sample = False):\n",
    "    \"\"\" jet_num is feature number 22 (starting counting at 0)\n",
    "        returns 1) the data with jet_num <= 1 and 2) the data with jet_num >1\n",
    "        4 5 6 23 24 25 26 27\"\"\"\n",
    "    yb, input_data, ids = load_csv_data(data_path,sub_sample = False)\n",
    "    bool_mask = (input_data[:,22]<=1)\n",
    "\n",
    "    return yb[bool_mask], input_data[bool_mask], ids[bool_mask], yb[np.invert(bool_mask)], input_data[np.invert(bool_mask)], ids[np.invert(bool_mask)]\n",
    "\n",
    "def remove_useless_features(input_data_jetnum_inf1):\n",
    "    useless_features_index = [4,5,6,23,24,25,26,27,28]\n",
    "    mask = np.ones(int(input_data_jetnum_inf1.shape[1]), dtype=bool)\n",
    "    # print(mask.shape)\n",
    "    mask[(useless_features_index)] = False\n",
    "    return input_data_jetnum_inf1[:,mask]"
   ]
  },
  {
   "cell_type": "code",
   "execution_count": 18,
   "metadata": {},
   "outputs": [],
   "source": [
    "yb, input_data, ids =  angle_features_processing(\"train.csv\")\n",
    "\n",
    "yb_inf1, input_data_inf1, ids_inf1, yb_sup1, input_data_sup1, ids_sup1 = jet_num_split_alt(yb, input_data, ids)\n",
    "\n",
    "input_data_inf1 = remove_useless_features_alt(input_data_inf1)"
   ]
  },
  {
   "cell_type": "code",
   "execution_count": 49,
   "metadata": {},
   "outputs": [],
   "source": [
    "yb_inf1, input_data_inf1, ids_inf1, yb_sup1, input_data_sup1, ids_sup1 = jet_num_split(\"train.csv\", sub_sample = False)\n",
    "input_data_inf1 = remove_useless_features(input_data_inf1)"
   ]
  },
  {
   "cell_type": "code",
   "execution_count": 19,
   "metadata": {},
   "outputs": [
    {
     "name": "stdout",
     "output_type": "stream",
     "text": [
      "(177457, 24)\n",
      "(72543, 35)\n"
     ]
    }
   ],
   "source": [
    "print(input_data_inf1.shape)\n",
    "print(input_data_sup1.shape)"
   ]
  },
  {
   "cell_type": "code",
   "execution_count": 6,
   "metadata": {},
   "outputs": [],
   "source": [
    "\"\"\"sépare les données en 80/20 pour test et train\n",
    "   retourne les données de train (3) puis les données de test (3)\"\"\"\n",
    "def data_spliting(yb, input_data, ids):\n",
    "\n",
    "    n = int(yb.shape[0])\n",
    "    yb_test, input_data_test, ids_test = yb[:50000:], input_data[:50000:], ids[:50000:]\n",
    "    yb_train, input_data_train, ids_train = yb[50000::], input_data[50000::], ids[50000::]\n",
    "    return yb_train, input_data_train, ids_train, yb_test, input_data_test, ids_test\n"
   ]
  },
  {
   "cell_type": "code",
   "execution_count": 33,
   "metadata": {},
   "outputs": [],
   "source": [
    "def ridge(yb_test, input_data_test, yb_train, input_data_train,lambda_):\n",
    "    w, train_loss = ridge_regression(yb_train, input_data_train, lambda_)\n",
    "    # w, train_loss = least_squares_GD(yb_train, input_data_train, np.random.rand(int(input_data_train.shape[1])), 50, 0.0001,computeLoss = True);\n",
    "    \n",
    "    # print(input_data_test.shape)\n",
    "    #print(w.shape)\n",
    "    \n",
    "    test_loss = compute_loss(yb_test, input_data_test, w)\n",
    "    y_pred = predict_labels(w, input_data_test)\n",
    "    return w, train_loss, test_loss, y_pred\n"
   ]
  },
  {
   "cell_type": "code",
   "execution_count": 8,
   "metadata": {},
   "outputs": [],
   "source": [
    "\"\"\" Générateur renvoyant (en k fois) des données splitées pour train et test\n",
    "    Retourne les données de train puis de test\"\"\"\n",
    "def K_split_LS(yb,input_data,ids,k):\n",
    "    n = int(yb.shape[0])\n",
    "    bool_mask = np.ones(n,dtype=bool)\n",
    "    bool_mask[::k] = 0\n",
    "    \"\"\"On renvoie ... train puis ... test\"\"\"\n",
    "    for i in range(k):\n",
    "        yield yb[bool_mask], input_data[bool_mask], ids[bool_mask], yb[np.invert(bool_mask)], input_data[np.invert(bool_mask)], ids[np.invert(bool_mask)]\n",
    "        bool_mask[i::k] = 1\n",
    "        bool_mask[i+1::k] = 0"
   ]
  },
  {
   "cell_type": "code",
   "execution_count": 9,
   "metadata": {},
   "outputs": [],
   "source": [
    "def Kfold_ridge(k,degree,lambda_):\n",
    "\n",
    "    train_loss_list = []\n",
    "    test_loss_list = []\n",
    "    score_list = []\n",
    "    for yb_train, input_data_train, ids_train, yb_test, input_data_test, ids_test in K_split_LS(yb_sup1, input_data_sup1, ids_sup1,k):\n",
    "        input_data_train_poly = build_poly(input_data_train,degree)\n",
    "        input_data_test_poly = build_poly(input_data_test,degree)\n",
    "        w, train_loss, test_loss, y_pred = ridge(yb_test, input_data_test_poly, yb_train, input_data_train_poly,lambda_)\n",
    "        train_loss_list+=[train_loss]\n",
    "        test_loss_list+=[test_loss]\n",
    "        score_list+=[np.mean(y_pred == yb_test)]\n",
    "        \n",
    "    return train_loss_list, test_loss_list,score_list  "
   ]
  },
  {
   "cell_type": "code",
   "execution_count": 10,
   "metadata": {},
   "outputs": [],
   "source": [
    "def CrossVal_ridge(k,degree,lambda_):\n",
    "\n",
    "    yb_train, input_data_train, ids_train, yb_test, input_data_test, ids_test = data_spliting(yb, input_data, ids)\n",
    "    \n",
    "    input_data_train_poly = build_poly(input_data_train,degree)\n",
    "    input_data_test_poly = build_poly(input_data_test,degree)\n",
    "    \n",
    "    w, train_loss, test_loss, y_pred = ridge(yb_test, input_data_test_poly, yb_train, input_data_train_poly,lambda_)\n",
    "\n",
    "        \n",
    "    return [train_loss], [test_loss], [np.mean(y_pred == yb_test)]"
   ]
  },
  {
   "cell_type": "code",
   "execution_count": 11,
   "metadata": {},
   "outputs": [],
   "source": [
    "def build_poly(x, degree):\n",
    "    \"\"\"polynomial basis functions for input data x, for j=0 up to j=degree.\"\"\"\n",
    "    poly = np.ones((len(x), 1))\n",
    "    for deg in range(1, degree+1):\n",
    "        poly = np.c_[poly, np.power(x, deg)]\n",
    "    return poly"
   ]
  },
  {
   "cell_type": "code",
   "execution_count": 12,
   "metadata": {},
   "outputs": [
    {
     "name": "stdout",
     "output_type": "stream",
     "text": [
      "Degree 2 done\n",
      "Degree 3 done\n",
      "Degree 4 done\n",
      "Degree 5 done\n",
      "Degree 6 done\n",
      "Degree 7 done\n",
      "Degree 8 done\n",
      "Degree 9 done\n",
      "Degree 10 done\n",
      "Degree 11 done\n",
      "Degree 12 done\n"
     ]
    },
    {
     "name": "stderr",
     "output_type": "stream",
     "text": [
      "No handles with labels found to put in legend.\n"
     ]
    },
    {
     "name": "stdout",
     "output_type": "stream",
     "text": [
      "Degree 13 done\n"
     ]
    },
    {
     "data": {
      "image/png": "[encoded data removed]",
      "text/plain": [
       "<Figure size 432x288 with 1 Axes>"
      ]
     },
     "metadata": {},
     "output_type": "display_data"
    },
    {
     "data": {
      "image/png": "[encoded data removed]",
      "text/plain": [
       "<Figure size 432x288 with 1 Axes>"
      ]
     },
     "metadata": {},
     "output_type": "display_data"
    },
    {
     "data": {
      "image/png": "[encoded data removed]",
      "text/plain": [
       "<Figure size 432x288 with 1 Axes>"
      ]
     },
     "metadata": {},
     "output_type": "display_data"
    },
    {
     "data": {
      "text/plain": [
       "([0.3687723264979983,\n",
       "  0.3559970595771841,\n",
       "  0.33436656220890837,\n",
       "  0.31750210693116393,\n",
       "  0.3136843279135199,\n",
       "  0.30679021801233797,\n",
       "  0.29272867603172653,\n",
       "  0.28724608844628186,\n",
       "  0.2900164371430373,\n",
       "  121.58654533005529,\n",
       "  38644.93563693909,\n",
       "  1950.72043230404],\n",
       " [0.36957004094058643,\n",
       "  0.35901385781348816,\n",
       "  0.34886843037772153,\n",
       "  0.42983595627093524,\n",
       "  0.8243598860751964,\n",
       "  2.6468518543553934,\n",
       "  21.495845477495443,\n",
       "  123.47038968320696,\n",
       "  5337.463315221049,\n",
       "  301025.4060306861,\n",
       "  10139792.234867264,\n",
       "  197670444239.98264],\n",
       " [0.723377876356912,\n",
       "  0.7382380176853399,\n",
       "  0.7649394226660183,\n",
       "  0.7814813092023469,\n",
       "  0.7846517855497203,\n",
       "  0.7926332580688864,\n",
       "  0.8074795834974576,\n",
       "  0.8142894065243501,\n",
       "  0.8089407379412048,\n",
       "  0.553244087674625,\n",
       "  0.5281977917741906,\n",
       "  0.5249301974983931])"
      ]
     },
     "execution_count": 12,
     "metadata": {},
     "output_type": "execute_result"
    }
   ],
   "source": [
    "def param_test(k,max_deg,max_lambda,lambda_step):\n",
    "    lambda_list = np.arange(0,max_lambda,lambda_step)\n",
    "    #lambda_list = np.logspace(1, 5, num=6)\n",
    "    degree_list = np.arange(2,max_deg)\n",
    "    final_train_loss_list = []\n",
    "    final_test_loss_list = []\n",
    "    final_score_list = []\n",
    "    \n",
    "    lambda_ = 10\n",
    "    \n",
    "    for degree in degree_list:\n",
    "        train_loss_list, test_loss_list,score_list = Kfold_ridge(k,degree,lambda_)\n",
    "        #train_loss_list, test_loss_list,score_list = CrossVal_ridge(k,degree,lambda_)\n",
    "        train_loss, test_loss, score = np.mean(train_loss_list), np.mean(test_loss_list), np.mean(score_list)\n",
    "        final_train_loss_list+=[train_loss]\n",
    "        final_test_loss_list+=[test_loss]\n",
    "        final_score_list+=[score]\n",
    "        print(\"Degree \" + str(degree) + \" done\")\n",
    "    \"\"\"\n",
    "    degree = 4\n",
    "    for lambda_ in lambda_list:\n",
    "        train_loss_list, test_loss_list,score_list = Kfold_ridge(k,degree,lambda_)\n",
    "        train_loss, test_loss, score = np.mean(train_loss_list), np.mean(test_loss_list), np.mean(score_list)\n",
    "        final_train_loss_list+=[train_loss*(1./degree)]\n",
    "        final_test_loss_list+=[test_loss*(1./degree)]\n",
    "        final_score_list+=[score]\n",
    "        print(\"Lambda =  \" + str(lambda_) + \" done\")\n",
    "    \"\"\"\n",
    "    plt.legend()\n",
    "    plt.figure(1)  \n",
    "    plt.plot(degree_list,final_train_loss_list)\n",
    "    plt.ylabel(\"Train Loss\")\n",
    "    plt.figure(2)\n",
    "    plt.plot(degree_list,final_test_loss_list)\n",
    "    plt.ylabel(\"Test Loss\")\n",
    "    plt.figure(3)\n",
    "    plt.plot(degree_list,final_score_list)\n",
    "    plt.ylabel(\"Score\")\n",
    "    plt.show()\n",
    "    \n",
    "    return final_train_loss_list, final_test_loss_list, final_score_list\n",
    "\n",
    "\n",
    "def param_test_simultane(k,max_deg,max_lambda,number_lambda):\n",
    "    lambda_list = np.linspace(10,max_lambda,number_lambda)\n",
    "    #lambda_list = np.logspace(1, 5, num=5)\n",
    "    degree_list = np.arange(2,max_deg+1)\n",
    "    \n",
    "    final_train_loss_list = np.zeros((len(degree_list),number_lambda))\n",
    "    final_test_loss_list = np.zeros((len(degree_list),number_lambda))\n",
    "    final_score_list = np.zeros((len(degree_list),number_lambda))\n",
    "    \"\"\"\n",
    "    final_train_loss_list = np.zeros((len(degree_list),5))\n",
    "    final_test_loss_list = np.zeros((len(degree_list),5))\n",
    "    final_score_list = np.zeros((len(degree_list),5))\n",
    "    \"\"\"\n",
    "    \n",
    "    for j,degree in enumerate(degree_list):\n",
    "        for i, lambda_ in enumerate(lambda_list):\n",
    "            train_loss_list, test_loss_list,score_list = Kfold_ridge(k,degree,lambda_)\n",
    "            #train_loss_list, test_loss_list,score_list = CrossVal_ridge(k,degree,lambda_)\n",
    "            train_loss, test_loss, score = np.mean(train_loss_list), np.mean(test_loss_list), np.mean(score_list)\n",
    "            final_train_loss_list[j,i]=train_loss\n",
    "            final_test_loss_list[j,i]=test_loss\n",
    "            final_score_list[j,i]=score\n",
    "            print (\"Degree = \" + str(degree) + \" and Lambda = \" + str(lambda_))\n",
    "    \n",
    "    \n",
    "    plt.legend()\n",
    "    plt.figure(1)\n",
    "    #plt.contourf(lambda_list,degree_list, final_train_loss_list, 20, cmap='RdGy')\n",
    "    plt.pcolor(lambda_list,degree_list, final_train_loss_list)\n",
    "    #plt.colorbar();\n",
    "    plt.ylabel(\"Train Loss\")\n",
    "    plt.figure(2)\n",
    "    plt.contourf(lambda_list,degree_list,  final_test_loss_list, 20, cmap='RdGy')\n",
    "    plt.colorbar();\n",
    "    plt.ylabel(\"Test Loss\")\n",
    "    plt.figure(3)\n",
    "    plt.contourf(lambda_list,degree_list,  final_score_list, 20, cmap='RdGy')\n",
    "    plt.colorbar();\n",
    "    plt.ylabel(\"Score\")\n",
    "    plt.show()\n",
    "    \n",
    "    return final_train_loss_list, final_test_loss_list, final_score_list\n",
    "\n",
    "param_test(10,14,80,10)\n"
   ]
  },
  {
   "cell_type": "code",
   "execution_count": 20,
   "metadata": {},
   "outputs": [],
   "source": [
    "def submission_ridge(degree_inf1,degree_sup1,lambda_inf1,lambda_sup1):\n",
    "    \n",
    "    #For the inf1 data\n",
    "    # yb_inf1_test, input_data_inf1_test, ids_inf1_test, yb_sup1_test, input_data_sup1_test, ids_sup1_test = jet_num_split(\"test.csv\")\n",
    "    yb_t, input_data_t, ids_t =  angle_features_processing(\"test.csv\")\n",
    "\n",
    "    yb_inf1_test, input_data_inf1_test, ids_inf1_test, yb_sup1_test, input_data_sup1_test, ids_sup1_test = jet_num_split_alt(yb_t, input_data_t, ids_t)\n",
    "\n",
    "    input_data_inf1_test = remove_useless_features_alt(input_data_inf1_test)\n",
    "    \n",
    "    \n",
    "    input_data_inf1_test_poly = build_poly(input_data_inf1_test, degree_inf1)\n",
    "    input_data_inf1_poly = build_poly(input_data_inf1,degree_inf1)\n",
    "    w, train_loss, test_loss, y_pred_inf1 = ridge(yb_inf1_test, input_data_inf1_test_poly, yb_inf1, input_data_inf1_poly,lambda_inf1)\n",
    "    \n",
    "    #For the sup1 data\n",
    "    input_data_sup1_test_poly = build_poly(input_data_sup1_test, degree_sup1)\n",
    "    input_data_sup1_poly = build_poly(input_data_sup1,degree_sup1)\n",
    "    w, train_loss, test_loss, y_pred_sup1 = ridge(yb_sup1_test, input_data_sup1_test_poly, yb_sup1, input_data_sup1_poly,lambda_sup1)\n",
    "    \n",
    "    final_ids_test = np.concatenate((ids_inf1_test,ids_sup1_test))\n",
    "    final_y_pred = np.concatenate((y_pred_inf1,y_pred_sup1))\n",
    "    create_csv_submission(final_ids_test, final_y_pred, \"pred_4_210.csv\")\n",
    "    \n",
    "submission_ridge(8,10,150,120)    "
   ]
  },
  {
   "cell_type": "code",
   "execution_count": 34,
   "metadata": {},
   "outputs": [],
   "source": [
    "def submission_ridge_4split(deg0, deg1, deg2, deg3,lambda0, lambda1, lambda2, lambda3):\n",
    "    \n",
    "    #For the jet_num 0 data\n",
    "    yb_t, input_data_t, ids_t =  angle_features_processing(\"test.csv\")\n",
    "\n",
    "    yb0t, yb1t, yb2t, yb3t, data0t, data1t, data2t, data3t, ids0t, ids1t, ids2t, ids3t = ultimate_split(yb_t, input_data_t, ids_t)\n",
    "\n",
    "    data0t = remove_features_0(data0t)\n",
    "    data1t = remove_features_1(data1t)\n",
    "    \n",
    "        \n",
    "    poly_test0 = build_poly(data0t, deg0)\n",
    "\n",
    "    poly0 = build_poly(data0,deg0)\n",
    "    w, train_loss, test_loss, y_pred0 = ridge(yb0t, poly_test0, yb0, poly0,lambda0)\n",
    "    \n",
    "    #For the jet_num 1 data\n",
    "    poly_test1 = build_poly(data1t, deg1)\n",
    "    poly1 = build_poly(data1,deg1)\n",
    "    w, train_loss, test_loss, y_pred1 = ridge(yb1t, poly_test1, yb1, poly1,lambda1)\n",
    "    \n",
    "    #For the jet_num 2 data\n",
    "    poly_test2 = build_poly(data2t, deg2)\n",
    "    poly2 = build_poly(data2,deg2)\n",
    "    w, train_loss, test_loss, y_pred2 = ridge(yb2t, poly_test2, yb2, poly2,lambda2)\n",
    "\n",
    "    #For the jet_num 3 data\n",
    "    poly_test3 = build_poly(data3t, deg3)\n",
    "    poly3 = build_poly(data3,deg3)\n",
    "    w, train_loss, test_loss, y_pred3 = ridge(yb3t, poly_test3, yb3, poly3,lambda3)\n",
    "\n",
    "    \n",
    "    \n",
    "    final_ids_test = np.concatenate((ids0t, ids1t, ids2t, ids3t))\n",
    "    final_y_pred = np.concatenate((y_pred0,y_pred1,y_pred2,y_pred3))\n",
    "    create_csv_submission(final_ids_test, final_y_pred, \"pred_4split.csv\")\n",
    "    \n",
    "submission_ridge_4split(9,9,9,9,150,150,120,120)    "
   ]
  },
  {
   "cell_type": "code",
   "execution_count": null,
   "metadata": {},
   "outputs": [],
   "source": []
  },
  {
   "cell_type": "code",
   "execution_count": 31,
   "metadata": {},
   "outputs": [
    {
     "ename": "NameError",
     "evalue": "name 'yb_test' is not defined",
     "output_type": "error",
     "traceback": [
      "\u001b[0;31m---------------------------------------------------------------------------\u001b[0m",
      "\u001b[0;31mNameError\u001b[0m                                 Traceback (most recent call last)",
      "\u001b[0;32m<ipython-input-31-e033c18b3399>\u001b[0m in \u001b[0;36m<module>\u001b[0;34m()\u001b[0m\n\u001b[1;32m      1\u001b[0m \u001b[0;34m\"\"\"yb_inf1, input_data_inf1, ids_inf1, yb_sup1, input_data_sup1, ids_sup1\"\"\"\u001b[0m\u001b[0;34m\u001b[0m\u001b[0m\n\u001b[0;32m----> 2\u001b[0;31m \u001b[0mw\u001b[0m\u001b[0;34m,\u001b[0m \u001b[0mtrain_loss\u001b[0m\u001b[0;34m,\u001b[0m \u001b[0mtest_loss\u001b[0m\u001b[0;34m,\u001b[0m \u001b[0my_pred\u001b[0m \u001b[0;34m=\u001b[0m \u001b[0mridge\u001b[0m\u001b[0;34m(\u001b[0m\u001b[0myb_test\u001b[0m\u001b[0;34m,\u001b[0m \u001b[0minput_data_test\u001b[0m\u001b[0;34m,\u001b[0m \u001b[0myb\u001b[0m\u001b[0;34m,\u001b[0m \u001b[0minput_data\u001b[0m\u001b[0;34m,\u001b[0m\u001b[0;36m0\u001b[0m\u001b[0;34m)\u001b[0m\u001b[0;34m\u001b[0m\u001b[0m\n\u001b[0m\u001b[1;32m      3\u001b[0m \u001b[0mprint\u001b[0m \u001b[0;34m(\u001b[0m\u001b[0mw\u001b[0m\u001b[0;34m,\u001b[0m \u001b[0mtrain_loss\u001b[0m\u001b[0;34m,\u001b[0m \u001b[0mtest_loss\u001b[0m\u001b[0;34m)\u001b[0m\u001b[0;34m\u001b[0m\u001b[0m\n",
      "\u001b[0;31mNameError\u001b[0m: name 'yb_test' is not defined"
     ]
    }
   ],
   "source": [
    "\"\"\"yb_inf1, input_data_inf1, ids_inf1, yb_sup1, input_data_sup1, ids_sup1\"\"\"\n",
    "w, train_loss, test_loss, y_pred = ridge(yb_test, input_data_test, yb, input_data,0)\n",
    "print (w, train_loss, test_loss)"
   ]
  },
  {
   "cell_type": "code",
   "execution_count": null,
   "metadata": {},
   "outputs": [],
   "source": []
  }
 ],
 "metadata": {
  "kernelspec": {
   "display_name": "Python 3",
   "language": "python",
   "name": "python3"
  },
  "language_info": {
   "codemirror_mode": {
    "name": "ipython",
    "version": 3
   },
   "file_extension": ".py",
   "mimetype": "text/x-python",
   "name": "python",
   "nbconvert_exporter": "python",
   "pygments_lexer": "ipython3",
   "version": "3.6.5"
  }
 },
 "nbformat": 4,
 "nbformat_minor": 2
}
