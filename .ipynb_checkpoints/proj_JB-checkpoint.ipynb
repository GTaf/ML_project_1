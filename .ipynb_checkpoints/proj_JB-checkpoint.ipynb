{
 "cells": [
  {
   "cell_type": "code",
   "execution_count": 3,
   "metadata": {},
   "outputs": [],
   "source": [
    "%matplotlib inline\n",
    "import numpy as np\n",
    "import matplotlib.pyplot as plt\n",
    "from implementations_JB import *\n",
    "from proj1_helpers import *\n",
    "%load_ext autoreload\n",
    "%autoreload 2"
   ]
  },
  {
   "cell_type": "code",
   "execution_count": 28,
   "metadata": {},
   "outputs": [],
   "source": [
    "def ultimate_split(yb, input_data, ids):\n",
    "    \"\"\"\n",
    "    The ultimate split. THE real BADA$$.\n",
    "    This is some real shit\n",
    "    \"\"\"\n",
    "    \n",
    "    mask_0 = (input_data[:,22] == 0)\n",
    "    mask_1 = (input_data[:,22] == 1)\n",
    "    mask_2 = (input_data[:,22] == 2)\n",
    "    mask_3 = (input_data[:,22] == 3)\n",
    "\n",
    "    \n",
    "    return yb[mask_0], yb[mask_1], yb[mask_2], yb[mask_3], \\\n",
    "input_data[mask_0], input_data[mask_1], input_data[mask_2], input_data[mask_3], \\\n",
    "ids[mask_0], ids[mask_1], ids[mask_2], ids[mask_3]"
   ]
  },
  {
   "cell_type": "code",
   "execution_count": 5,
   "metadata": {},
   "outputs": [],
   "source": [
    "def remove_features_0(input_data_0):\n",
    "    \"\"\"\n",
    "    Remove the useless features if the jet num feature is equal to 0\n",
    "    \"\"\"\n",
    "    useless_features_index = [4, 5, 6, 12, 23, 24, 25 , 26, 27, 28]# , 30, 33]\n",
    "    \n",
    "    mask = np.ones(int(input_data_0.shape[1]), dtype=bool)\n",
    "    mask[(useless_features_index)] = False\n",
    "    return input_data_0[:,mask]\n",
    "\n",
    "def remove_features_1(input_data_1):\n",
    "    \"\"\"\n",
    "    Remove the useless features if the jet num feature is equal to 1\n",
    "    \"\"\"\n",
    "    useless_features_index = [4, 5, 6, 26, 27, 28]#, 30, 33]\n",
    "    \n",
    "    mask = np.ones(int(input_data_1.shape[1]), dtype=bool)\n",
    "    mask[(useless_features_index)] = False\n",
    "    return input_data_1[:,mask]\n",
    "\n",
    "    # No need for jet_num equal to 2 or 3 : all the features are kept   "
   ]
  },
  {
   "cell_type": "code",
   "execution_count": 6,
   "metadata": {},
   "outputs": [],
   "source": [
    "def angle_features_processing(data_path):\n",
    "    \"\"\"\n",
    "    We want to change all the features representing an angle into two features\n",
    "    one for cosinus of the angle and another for sinus of the angle.\n",
    "    \"\"\"\n",
    "    \n",
    "    yb, input_data, ids = load_csv_data(data_path,sub_sample = False)\n",
    "\n",
    "    angle_features = [15, 18, 20, 25, 28]\n",
    "    \n",
    "    new_data = np.zeros((input_data.shape[0], input_data.shape[1] + len(angle_features) ))\n",
    "    \n",
    "    for k in range(input_data.shape[1]):\n",
    "        if k not in angle_features:\n",
    "            new_data[:, k] = input_data[:, k]\n",
    "        \n",
    "    for idx, column in enumerate(angle_features): \n",
    "        \n",
    "        new_data[:, column] = np.cos(input_data[:, column])\n",
    "        new_data[:, input_data.shape[1] + idx] = np.sin(input_data[:, column])\n",
    "    \n",
    "    return yb, new_data, ids"
   ]
  },
  {
   "cell_type": "code",
   "execution_count": 8,
   "metadata": {},
   "outputs": [],
   "source": [
    "def build_poly(x, degree):\n",
    "    \"\"\"polynomial basis functions for input data x, for j=0 up to j=degree.\"\"\"\n",
    "    poly = np.ones((len(x), 1))\n",
    "    for deg in range(1, degree+1):\n",
    "        poly = np.c_[poly, np.power(x, deg)]\n",
    "    return poly"
   ]
  },
  {
   "cell_type": "code",
   "execution_count": 46,
   "metadata": {},
   "outputs": [],
   "source": [
    "def least_squares_implementation(yb, data, ids, max_deg):\n",
    "    \"\"\"\n",
    "    The inputs of this function are arrays containing the data from the separation into 4 parts\n",
    "    depending on the value of the jet_num index\n",
    "    \"\"\"\n",
    "    \n",
    "    best_deg = np.zeros(4)\n",
    "    min_loss = np.Inf*np.ones(4)\n",
    "    w = np.zeros((4, max_deg+1))\n",
    "    losses = np.zeros((4, max_deg+1))\n",
    "    \n",
    "    for i in range(3):\n",
    "        # We test for polynomes from degree 0 to max_deg\n",
    "        for deg in range(max_deg + 1):\n",
    "\n",
    "            poly = build_poly(data[i], deg)\n",
    "            w[i, deg], losses[i, deg] = least_squares(yb[i], poly)\n",
    "            \n",
    "            if (losses[i, deg] < min_loss[i]):\n",
    "                min_loss[i] = losses[i, deg]\n",
    "                best_deg[i] = deg\n",
    "            \n",
    "    return w[0, best_deg[0]], w[1, best_deg[1]], w[2, best_deg[2]], w[3, best_deg[3]] "
   ]
  },
  {
   "cell_type": "code",
   "execution_count": 50,
   "metadata": {},
   "outputs": [
    {
     "ename": "IndexError",
     "evalue": "index 30 is out of bounds for axis 1 with size 30",
     "output_type": "error",
     "traceback": [
      "\u001b[0;31m---------------------------------------------------------------------------\u001b[0m",
      "\u001b[0;31mIndexError\u001b[0m                                Traceback (most recent call last)",
      "\u001b[0;32m<ipython-input-50-b21377d04085>\u001b[0m in \u001b[0;36m<module>\u001b[0;34m()\u001b[0m\n\u001b[1;32m      8\u001b[0m \u001b[0;34m\u001b[0m\u001b[0m\n\u001b[1;32m      9\u001b[0m \u001b[0;34m\u001b[0m\u001b[0m\n\u001b[0;32m---> 10\u001b[0;31m \u001b[0mdata0\u001b[0m \u001b[0;34m=\u001b[0m \u001b[0mremove_features_0\u001b[0m\u001b[0;34m(\u001b[0m\u001b[0mdata0\u001b[0m\u001b[0;34m)\u001b[0m\u001b[0;34m\u001b[0m\u001b[0m\n\u001b[0m\u001b[1;32m     11\u001b[0m \u001b[0mdata1\u001b[0m \u001b[0;34m=\u001b[0m \u001b[0mremove_features_1\u001b[0m\u001b[0;34m(\u001b[0m\u001b[0mdata1\u001b[0m\u001b[0;34m)\u001b[0m\u001b[0;34m\u001b[0m\u001b[0m\n",
      "\u001b[0;32m<ipython-input-5-130a8fc98600>\u001b[0m in \u001b[0;36mremove_features_0\u001b[0;34m(input_data_0)\u001b[0m\n\u001b[1;32m      6\u001b[0m \u001b[0;34m\u001b[0m\u001b[0m\n\u001b[1;32m      7\u001b[0m     \u001b[0mmask\u001b[0m \u001b[0;34m=\u001b[0m \u001b[0mnp\u001b[0m\u001b[0;34m.\u001b[0m\u001b[0mones\u001b[0m\u001b[0;34m(\u001b[0m\u001b[0mint\u001b[0m\u001b[0;34m(\u001b[0m\u001b[0minput_data_0\u001b[0m\u001b[0;34m.\u001b[0m\u001b[0mshape\u001b[0m\u001b[0;34m[\u001b[0m\u001b[0;36m1\u001b[0m\u001b[0;34m]\u001b[0m\u001b[0;34m)\u001b[0m\u001b[0;34m,\u001b[0m \u001b[0mdtype\u001b[0m\u001b[0;34m=\u001b[0m\u001b[0mbool\u001b[0m\u001b[0;34m)\u001b[0m\u001b[0;34m\u001b[0m\u001b[0m\n\u001b[0;32m----> 8\u001b[0;31m     \u001b[0mmask\u001b[0m\u001b[0;34m[\u001b[0m\u001b[0;34m(\u001b[0m\u001b[0museless_features_index\u001b[0m\u001b[0;34m)\u001b[0m\u001b[0;34m]\u001b[0m \u001b[0;34m=\u001b[0m \u001b[0;32mFalse\u001b[0m\u001b[0;34m\u001b[0m\u001b[0m\n\u001b[0m\u001b[1;32m      9\u001b[0m     \u001b[0;32mreturn\u001b[0m \u001b[0minput_data_0\u001b[0m\u001b[0;34m[\u001b[0m\u001b[0;34m:\u001b[0m\u001b[0;34m,\u001b[0m\u001b[0mmask\u001b[0m\u001b[0;34m]\u001b[0m\u001b[0;34m\u001b[0m\u001b[0m\n\u001b[1;32m     10\u001b[0m \u001b[0;34m\u001b[0m\u001b[0m\n",
      "\u001b[0;31mIndexError\u001b[0m: index 30 is out of bounds for axis 1 with size 30"
     ]
    }
   ],
   "source": [
    "# Processing the angle features\n",
    "# yb, input_data, ids =  angle_features_processing(\"train.csv\")\n",
    "yb, input_data, ids = load_csv_data(\"train.csv\",sub_sample = False)\n",
    "\n",
    "\n",
    "yb0, yb1, yb2, yb3, data0, data1, data2, data3, ids0, ids1, ids2, ids3 = ultimate_split(yb, input_data, ids)\n",
    "input_data = standardize(input_data)\n",
    "\n",
    "\n",
    "data0 = remove_features_0(data0)\n",
    "data1 = remove_features_1(data1)"
   ]
  },
  {
   "cell_type": "code",
   "execution_count": null,
   "metadata": {},
   "outputs": [],
   "source": [
    "yb = np.array([yb0,yb1,yb2,yb3])\n",
    "data = np.array([data0,data1,data2,data3])\n",
    "ids = np.array([ids0,ids1,ids2,ids3])\n",
    "\n",
    "w0, w1, w2, w3 = least_squares_implementation(yb, data, ids, 10)"
   ]
  },
  {
   "cell_type": "code",
   "execution_count": null,
   "metadata": {},
   "outputs": [],
   "source": []
  },
  {
   "cell_type": "code",
   "execution_count": null,
   "metadata": {},
   "outputs": [],
   "source": []
  }
 ],
 "metadata": {
  "kernelspec": {
   "display_name": "Python 3",
   "language": "python",
   "name": "python3"
  },
  "language_info": {
   "codemirror_mode": {
    "name": "ipython",
    "version": 3
   },
   "file_extension": ".py",
   "mimetype": "text/x-python",
   "name": "python",
   "nbconvert_exporter": "python",
   "pygments_lexer": "ipython3",
   "version": "3.6.5"
  }
 },
 "nbformat": 4,
 "nbformat_minor": 2
}
